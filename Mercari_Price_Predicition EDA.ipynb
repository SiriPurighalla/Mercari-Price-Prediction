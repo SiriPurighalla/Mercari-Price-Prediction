{
  "nbformat": 4,
  "nbformat_minor": 0,
  "metadata": {
    "colab": {
      "name": "Mercari Price Predicition.ipynb",
      "version": "0.3.2",
      "provenance": [],
      "collapsed_sections": []
    },
    "kernelspec": {
      "display_name": "Python 3",
      "language": "python",
      "name": "python3"
    }
  },
  "cells": [
    {
      "metadata": {
        "id": "n-36bQalJWQi",
        "colab_type": "code",
        "colab": {}
      },
      "cell_type": "code",
      "source": [
        "import numpy as np\n",
        "import pandas as pd\n",
        "import seaborn as sns\n",
        "import matplotlib.pyplot as plt"
      ],
      "execution_count": 0,
      "outputs": []
    },
    {
      "metadata": {
        "id": "wgjzwpgUHOZr",
        "colab_type": "code",
        "outputId": "842a0e08-6221-4eea-9734-63580c218ffb",
        "colab": {
          "base_uri": "https://localhost:8080/",
          "height": 122
        }
      },
      "cell_type": "code",
      "source": [
        "# Load the Drive helper and mount\n",
        "from google.colab import drive\n",
        "\n",
        "# This will prompt for authorization.\n",
        "drive.mount('/content/drive')"
      ],
      "execution_count": 2,
      "outputs": [
        {
          "output_type": "stream",
          "text": [
            "Go to this URL in a browser: https://accounts.google.com/o/oauth2/auth?client_id=947318989803-6bn6qk8qdgf4n4g3pfee6491hc0brc4i.apps.googleusercontent.com&redirect_uri=urn%3Aietf%3Awg%3Aoauth%3A2.0%3Aoob&scope=email%20https%3A%2F%2Fwww.googleapis.com%2Fauth%2Fdocs.test%20https%3A%2F%2Fwww.googleapis.com%2Fauth%2Fdrive%20https%3A%2F%2Fwww.googleapis.com%2Fauth%2Fdrive.photos.readonly%20https%3A%2F%2Fwww.googleapis.com%2Fauth%2Fpeopleapi.readonly&response_type=code\n",
            "\n",
            "Enter your authorization code:\n",
            "··········\n",
            "Mounted at /content/drive\n"
          ],
          "name": "stdout"
        }
      ]
    },
    {
      "metadata": {
        "id": "usvDREuGJWQo",
        "colab_type": "code",
        "colab": {}
      },
      "cell_type": "code",
      "source": [
        "train=pd.read_csv('drive/My Drive/Colab Notebooks/train.tsv',sep='\\t')\n",
        "#test=pd.read_csv('test.tsv',sep='\\t')"
      ],
      "execution_count": 0,
      "outputs": []
    },
    {
      "metadata": {
        "id": "zuFdRY8_JWQs",
        "colab_type": "code",
        "outputId": "1709b4f3-e989-4baf-da9a-01a14e499d58",
        "colab": {
          "base_uri": "https://localhost:8080/",
          "height": 289
        }
      },
      "cell_type": "code",
      "source": [
        "train.head()"
      ],
      "execution_count": 4,
      "outputs": [
        {
          "output_type": "execute_result",
          "data": {
            "text/html": [
              "<div>\n",
              "<style scoped>\n",
              "    .dataframe tbody tr th:only-of-type {\n",
              "        vertical-align: middle;\n",
              "    }\n",
              "\n",
              "    .dataframe tbody tr th {\n",
              "        vertical-align: top;\n",
              "    }\n",
              "\n",
              "    .dataframe thead th {\n",
              "        text-align: right;\n",
              "    }\n",
              "</style>\n",
              "<table border=\"1\" class=\"dataframe\">\n",
              "  <thead>\n",
              "    <tr style=\"text-align: right;\">\n",
              "      <th></th>\n",
              "      <th>train_id</th>\n",
              "      <th>name</th>\n",
              "      <th>item_condition_id</th>\n",
              "      <th>category_name</th>\n",
              "      <th>brand_name</th>\n",
              "      <th>price</th>\n",
              "      <th>shipping</th>\n",
              "      <th>item_description</th>\n",
              "    </tr>\n",
              "  </thead>\n",
              "  <tbody>\n",
              "    <tr>\n",
              "      <th>0</th>\n",
              "      <td>0</td>\n",
              "      <td>MLB Cincinnati Reds T Shirt Size XL</td>\n",
              "      <td>3</td>\n",
              "      <td>Men/Tops/T-shirts</td>\n",
              "      <td>NaN</td>\n",
              "      <td>10.0</td>\n",
              "      <td>1</td>\n",
              "      <td>No description yet</td>\n",
              "    </tr>\n",
              "    <tr>\n",
              "      <th>1</th>\n",
              "      <td>1</td>\n",
              "      <td>Razer BlackWidow Chroma Keyboard</td>\n",
              "      <td>3</td>\n",
              "      <td>Electronics/Computers &amp; Tablets/Components &amp; P...</td>\n",
              "      <td>Razer</td>\n",
              "      <td>52.0</td>\n",
              "      <td>0</td>\n",
              "      <td>This keyboard is in great condition and works ...</td>\n",
              "    </tr>\n",
              "    <tr>\n",
              "      <th>2</th>\n",
              "      <td>2</td>\n",
              "      <td>AVA-VIV Blouse</td>\n",
              "      <td>1</td>\n",
              "      <td>Women/Tops &amp; Blouses/Blouse</td>\n",
              "      <td>Target</td>\n",
              "      <td>10.0</td>\n",
              "      <td>1</td>\n",
              "      <td>Adorable top with a hint of lace and a key hol...</td>\n",
              "    </tr>\n",
              "    <tr>\n",
              "      <th>3</th>\n",
              "      <td>3</td>\n",
              "      <td>Leather Horse Statues</td>\n",
              "      <td>1</td>\n",
              "      <td>Home/Home Décor/Home Décor Accents</td>\n",
              "      <td>NaN</td>\n",
              "      <td>35.0</td>\n",
              "      <td>1</td>\n",
              "      <td>New with tags. Leather horses. Retail for [rm]...</td>\n",
              "    </tr>\n",
              "    <tr>\n",
              "      <th>4</th>\n",
              "      <td>4</td>\n",
              "      <td>24K GOLD plated rose</td>\n",
              "      <td>1</td>\n",
              "      <td>Women/Jewelry/Necklaces</td>\n",
              "      <td>NaN</td>\n",
              "      <td>44.0</td>\n",
              "      <td>0</td>\n",
              "      <td>Complete with certificate of authenticity</td>\n",
              "    </tr>\n",
              "  </tbody>\n",
              "</table>\n",
              "</div>"
            ],
            "text/plain": [
              "   train_id                                 name  item_condition_id  \\\n",
              "0         0  MLB Cincinnati Reds T Shirt Size XL                  3   \n",
              "1         1     Razer BlackWidow Chroma Keyboard                  3   \n",
              "2         2                       AVA-VIV Blouse                  1   \n",
              "3         3                Leather Horse Statues                  1   \n",
              "4         4                 24K GOLD plated rose                  1   \n",
              "\n",
              "                                       category_name brand_name  price  \\\n",
              "0                                  Men/Tops/T-shirts        NaN   10.0   \n",
              "1  Electronics/Computers & Tablets/Components & P...      Razer   52.0   \n",
              "2                        Women/Tops & Blouses/Blouse     Target   10.0   \n",
              "3                 Home/Home Décor/Home Décor Accents        NaN   35.0   \n",
              "4                            Women/Jewelry/Necklaces        NaN   44.0   \n",
              "\n",
              "   shipping                                   item_description  \n",
              "0         1                                 No description yet  \n",
              "1         0  This keyboard is in great condition and works ...  \n",
              "2         1  Adorable top with a hint of lace and a key hol...  \n",
              "3         1  New with tags. Leather horses. Retail for [rm]...  \n",
              "4         0          Complete with certificate of authenticity  "
            ]
          },
          "metadata": {
            "tags": []
          },
          "execution_count": 4
        }
      ]
    },
    {
      "metadata": {
        "id": "lx5HKKbmJWQ0",
        "colab_type": "code",
        "outputId": "51c02cde-07ae-45ab-963b-ec4f1e88daea",
        "colab": {
          "base_uri": "https://localhost:8080/",
          "height": 34
        }
      },
      "cell_type": "code",
      "source": [
        "train.shape"
      ],
      "execution_count": 5,
      "outputs": [
        {
          "output_type": "execute_result",
          "data": {
            "text/plain": [
              "(1482535, 8)"
            ]
          },
          "metadata": {
            "tags": []
          },
          "execution_count": 5
        }
      ]
    },
    {
      "metadata": {
        "id": "2DcvmRGMJWQ5",
        "colab_type": "code",
        "outputId": "c0c72d79-19d8-4ec3-ce6d-791c853738f8",
        "colab": {}
      },
      "cell_type": "code",
      "source": [
        "test.shape"
      ],
      "execution_count": 0,
      "outputs": [
        {
          "output_type": "execute_result",
          "data": {
            "text/plain": [
              "(693359, 7)"
            ]
          },
          "metadata": {
            "tags": []
          },
          "execution_count": 5
        }
      ]
    },
    {
      "metadata": {
        "id": "sl6G795bJWQ9",
        "colab_type": "code",
        "colab": {}
      },
      "cell_type": "code",
      "source": [
        "c=0\n",
        "for i in train['train_id']:\n",
        "    if i==i+1:\n",
        "        c=c+1\n",
        "    if(c!=0):\n",
        "        print(i,c)\n",
        "        "
      ],
      "execution_count": 0,
      "outputs": []
    },
    {
      "metadata": {
        "id": "o5-31-LBJWRB",
        "colab_type": "code",
        "outputId": "54c79295-455a-46e2-bee3-00dc53deb456",
        "colab": {
          "base_uri": "https://localhost:8080/",
          "height": 170
        }
      },
      "cell_type": "code",
      "source": [
        "train.dtypes"
      ],
      "execution_count": 7,
      "outputs": [
        {
          "output_type": "execute_result",
          "data": {
            "text/plain": [
              "train_id               int64\n",
              "name                  object\n",
              "item_condition_id      int64\n",
              "category_name         object\n",
              "brand_name            object\n",
              "price                float64\n",
              "shipping               int64\n",
              "item_description      object\n",
              "dtype: object"
            ]
          },
          "metadata": {
            "tags": []
          },
          "execution_count": 7
        }
      ]
    },
    {
      "metadata": {
        "id": "Bor0yCEDJWRF",
        "colab_type": "code",
        "outputId": "f477e610-f687-4dd5-ff3b-7b8464fc7239",
        "colab": {
          "base_uri": "https://localhost:8080/",
          "height": 297
        }
      },
      "cell_type": "code",
      "source": [
        "train.describe()"
      ],
      "execution_count": 8,
      "outputs": [
        {
          "output_type": "execute_result",
          "data": {
            "text/html": [
              "<div>\n",
              "<style scoped>\n",
              "    .dataframe tbody tr th:only-of-type {\n",
              "        vertical-align: middle;\n",
              "    }\n",
              "\n",
              "    .dataframe tbody tr th {\n",
              "        vertical-align: top;\n",
              "    }\n",
              "\n",
              "    .dataframe thead th {\n",
              "        text-align: right;\n",
              "    }\n",
              "</style>\n",
              "<table border=\"1\" class=\"dataframe\">\n",
              "  <thead>\n",
              "    <tr style=\"text-align: right;\">\n",
              "      <th></th>\n",
              "      <th>train_id</th>\n",
              "      <th>item_condition_id</th>\n",
              "      <th>price</th>\n",
              "      <th>shipping</th>\n",
              "    </tr>\n",
              "  </thead>\n",
              "  <tbody>\n",
              "    <tr>\n",
              "      <th>count</th>\n",
              "      <td>1.482535e+06</td>\n",
              "      <td>1.482535e+06</td>\n",
              "      <td>1.482535e+06</td>\n",
              "      <td>1.482535e+06</td>\n",
              "    </tr>\n",
              "    <tr>\n",
              "      <th>mean</th>\n",
              "      <td>7.412670e+05</td>\n",
              "      <td>1.907380e+00</td>\n",
              "      <td>2.673752e+01</td>\n",
              "      <td>4.472744e-01</td>\n",
              "    </tr>\n",
              "    <tr>\n",
              "      <th>std</th>\n",
              "      <td>4.279711e+05</td>\n",
              "      <td>9.031586e-01</td>\n",
              "      <td>3.858607e+01</td>\n",
              "      <td>4.972124e-01</td>\n",
              "    </tr>\n",
              "    <tr>\n",
              "      <th>min</th>\n",
              "      <td>0.000000e+00</td>\n",
              "      <td>1.000000e+00</td>\n",
              "      <td>0.000000e+00</td>\n",
              "      <td>0.000000e+00</td>\n",
              "    </tr>\n",
              "    <tr>\n",
              "      <th>25%</th>\n",
              "      <td>3.706335e+05</td>\n",
              "      <td>1.000000e+00</td>\n",
              "      <td>1.000000e+01</td>\n",
              "      <td>0.000000e+00</td>\n",
              "    </tr>\n",
              "    <tr>\n",
              "      <th>50%</th>\n",
              "      <td>7.412670e+05</td>\n",
              "      <td>2.000000e+00</td>\n",
              "      <td>1.700000e+01</td>\n",
              "      <td>0.000000e+00</td>\n",
              "    </tr>\n",
              "    <tr>\n",
              "      <th>75%</th>\n",
              "      <td>1.111900e+06</td>\n",
              "      <td>3.000000e+00</td>\n",
              "      <td>2.900000e+01</td>\n",
              "      <td>1.000000e+00</td>\n",
              "    </tr>\n",
              "    <tr>\n",
              "      <th>max</th>\n",
              "      <td>1.482534e+06</td>\n",
              "      <td>5.000000e+00</td>\n",
              "      <td>2.009000e+03</td>\n",
              "      <td>1.000000e+00</td>\n",
              "    </tr>\n",
              "  </tbody>\n",
              "</table>\n",
              "</div>"
            ],
            "text/plain": [
              "           train_id  item_condition_id         price      shipping\n",
              "count  1.482535e+06       1.482535e+06  1.482535e+06  1.482535e+06\n",
              "mean   7.412670e+05       1.907380e+00  2.673752e+01  4.472744e-01\n",
              "std    4.279711e+05       9.031586e-01  3.858607e+01  4.972124e-01\n",
              "min    0.000000e+00       1.000000e+00  0.000000e+00  0.000000e+00\n",
              "25%    3.706335e+05       1.000000e+00  1.000000e+01  0.000000e+00\n",
              "50%    7.412670e+05       2.000000e+00  1.700000e+01  0.000000e+00\n",
              "75%    1.111900e+06       3.000000e+00  2.900000e+01  1.000000e+00\n",
              "max    1.482534e+06       5.000000e+00  2.009000e+03  1.000000e+00"
            ]
          },
          "metadata": {
            "tags": []
          },
          "execution_count": 8
        }
      ]
    },
    {
      "metadata": {
        "id": "AQCM1kIjJWRL",
        "colab_type": "code",
        "outputId": "9c259258-9a94-4c9b-cd86-cf29f9649aea",
        "colab": {
          "base_uri": "https://localhost:8080/",
          "height": 170
        }
      },
      "cell_type": "code",
      "source": [
        "train.isna().any()"
      ],
      "execution_count": 9,
      "outputs": [
        {
          "output_type": "execute_result",
          "data": {
            "text/plain": [
              "train_id             False\n",
              "name                 False\n",
              "item_condition_id    False\n",
              "category_name         True\n",
              "brand_name            True\n",
              "price                False\n",
              "shipping             False\n",
              "item_description      True\n",
              "dtype: bool"
            ]
          },
          "metadata": {
            "tags": []
          },
          "execution_count": 9
        }
      ]
    },
    {
      "metadata": {
        "id": "puKvNhBHJWRQ",
        "colab_type": "code",
        "outputId": "48d4ddaa-d5e6-43e6-d990-8703a031f49f",
        "colab": {
          "base_uri": "https://localhost:8080/",
          "height": 68
        }
      },
      "cell_type": "code",
      "source": [
        "print(\"Number of missing values in category name: \",train['category_name'].isna().sum())\n",
        "print(\"Number of missing values in brand name: \",train['brand_name'].isna().sum())\n",
        "print(\"Number of missing values in item description: \",train['item_description'].isna().sum())\n"
      ],
      "execution_count": 10,
      "outputs": [
        {
          "output_type": "stream",
          "text": [
            "Number of missing values in category name:  6327\n",
            "Number of missing values in brand name:  632682\n",
            "Number of missing values in item description:  4\n"
          ],
          "name": "stdout"
        }
      ]
    },
    {
      "metadata": {
        "id": "ALx2GK35JWRU",
        "colab_type": "code",
        "outputId": "f165f88a-ab77-426a-8361-4ad0632d32cf",
        "colab": {
          "base_uri": "https://localhost:8080/",
          "height": 85
        }
      },
      "cell_type": "code",
      "source": [
        "print(\"Percentage of Missing values\")\n",
        "print(\"category_name:\",train['category_name'].isna().sum()*100/len(train['category_name']))\n",
        "print(\"brand_name:\",train['brand_name'].isna().sum()*100/len(train['brand_name']))\n",
        "print(\"item_description:\",train['item_description'].isna().sum()*100/len(train['item_description']))"
      ],
      "execution_count": 11,
      "outputs": [
        {
          "output_type": "stream",
          "text": [
            "Percentage of Missing values\n",
            "category_name: 0.42676901388500105\n",
            "brand_name: 42.67568725190299\n",
            "item_description: 0.00026980813269163965\n"
          ],
          "name": "stdout"
        }
      ]
    },
    {
      "metadata": {
        "id": "8BOwpBOkJWRZ",
        "colab_type": "text"
      },
      "cell_type": "markdown",
      "source": [
        "### PRICE"
      ]
    },
    {
      "metadata": {
        "id": "RJJfwkN4JWRa",
        "colab_type": "code",
        "outputId": "964c3146-b720-4455-b6d1-1b57d4e207a4",
        "colab": {
          "base_uri": "https://localhost:8080/",
          "height": 170
        }
      },
      "cell_type": "code",
      "source": [
        "train['price'].describe()"
      ],
      "execution_count": 12,
      "outputs": [
        {
          "output_type": "execute_result",
          "data": {
            "text/plain": [
              "count    1.482535e+06\n",
              "mean     2.673752e+01\n",
              "std      3.858607e+01\n",
              "min      0.000000e+00\n",
              "25%      1.000000e+01\n",
              "50%      1.700000e+01\n",
              "75%      2.900000e+01\n",
              "max      2.009000e+03\n",
              "Name: price, dtype: float64"
            ]
          },
          "metadata": {
            "tags": []
          },
          "execution_count": 12
        }
      ]
    },
    {
      "metadata": {
        "id": "ykedIylHJWRe",
        "colab_type": "code",
        "outputId": "5668f692-15e1-447d-973a-f672e1aeb8d7",
        "colab": {
          "base_uri": "https://localhost:8080/",
          "height": 365
        }
      },
      "cell_type": "code",
      "source": [
        "sns.FacetGrid(train, size=5) \\\n",
        "   .map(sns.distplot, \"price\",hist=False) \\\n",
        "   .add_legend()\n",
        "plt.show()"
      ],
      "execution_count": 13,
      "outputs": [
        {
          "output_type": "display_data",
          "data": {
            "image/png": "[encoded data removed]",
            "text/plain": [
              "<Figure size 368x360 with 1 Axes>"
            ]
          },
          "metadata": {
            "tags": []
          }
        }
      ]
    },
    {
      "metadata": {
        "id": "FBb-pA3QJWRm",
        "colab_type": "code",
        "outputId": "35f5412a-797e-4387-a72d-f34ae7b8631b",
        "colab": {
          "base_uri": "https://localhost:8080/",
          "height": 378
        }
      },
      "cell_type": "code",
      "source": [
        "plt.subplot(1, 2, 1)\n",
        "(train['price']).plot.hist(bins=70,figsize=(10,5), edgecolor='white',range=[0,250])\n",
        "plt.xlabel('price', fontsize=17)\n",
        "plt.ylabel('frequency', fontsize=17)\n",
        "plt.tick_params(labelsize=15)\n",
        "plt.title('Price Distribution - Training Set', fontsize=17)"
      ],
      "execution_count": 14,
      "outputs": [
        {
          "output_type": "execute_result",
          "data": {
            "text/plain": [
              "Text(0.5, 1.0, 'Price Distribution - Training Set')"
            ]
          },
          "metadata": {
            "tags": []
          },
          "execution_count": 14
        },
        {
          "output_type": "display_data",
          "data": {
            "image/png": "[encoded data removed]",
            "text/plain": [
              "<Figure size 720x360 with 1 Axes>"
            ]
          },
          "metadata": {
            "tags": []
          }
        }
      ]
    },
    {
      "metadata": {
        "id": "V0z6ubAjJWRs",
        "colab_type": "text"
      },
      "cell_type": "markdown",
      "source": [
        "### BRAND NAME"
      ]
    },
    {
      "metadata": {
        "id": "cxx4gnpmJWRs",
        "colab_type": "code",
        "outputId": "cf49578d-f813-4f8d-85e2-60fcb6e07ed7",
        "colab": {
          "base_uri": "https://localhost:8080/",
          "height": 34
        }
      },
      "cell_type": "code",
      "source": [
        "len(train['brand_name'].unique())"
      ],
      "execution_count": 15,
      "outputs": [
        {
          "output_type": "execute_result",
          "data": {
            "text/plain": [
              "4810"
            ]
          },
          "metadata": {
            "tags": []
          },
          "execution_count": 15
        }
      ]
    },
    {
      "metadata": {
        "id": "HaYNU1lgJWRy",
        "colab_type": "code",
        "outputId": "19f5a088-0439-4884-eea0-43470d2ca6d7",
        "colab": {
          "base_uri": "https://localhost:8080/",
          "height": 102
        }
      },
      "cell_type": "code",
      "source": [
        "train.brand_name.describe()"
      ],
      "execution_count": 16,
      "outputs": [
        {
          "output_type": "execute_result",
          "data": {
            "text/plain": [
              "count     849853\n",
              "unique      4809\n",
              "top         PINK\n",
              "freq       54088\n",
              "Name: brand_name, dtype: object"
            ]
          },
          "metadata": {
            "tags": []
          },
          "execution_count": 16
        }
      ]
    },
    {
      "metadata": {
        "id": "cwVwKzNlJWR3",
        "colab_type": "code",
        "outputId": "17f0dc44-0bd9-4433-ea47-b06a911898b0",
        "colab": {
          "base_uri": "https://localhost:8080/",
          "height": 441
        }
      },
      "cell_type": "code",
      "source": [
        "a=train['brand_name'].value_counts()[:15]\n",
        "a.plot(kind=\"bar\")"
      ],
      "execution_count": 17,
      "outputs": [
        {
          "output_type": "execute_result",
          "data": {
            "text/plain": [
              "<matplotlib.axes._subplots.AxesSubplot at 0x7fb3b513f080>"
            ]
          },
          "metadata": {
            "tags": []
          },
          "execution_count": 17
        },
        {
          "output_type": "display_data",
          "data": {
            "image/png": "[encoded data removed]",
            "text/plain": [
              "<Figure size 576x396 with 1 Axes>"
            ]
          },
          "metadata": {
            "tags": []
          }
        }
      ]
    },
    {
      "metadata": {
        "id": "-pVcwknAJWR8",
        "colab_type": "code",
        "colab": {}
      },
      "cell_type": "code",
      "source": [
        "train.brand_name=train.brand_name.fillna('missing')"
      ],
      "execution_count": 0,
      "outputs": []
    },
    {
      "metadata": {
        "id": "7ZnU3KXrJWR_",
        "colab_type": "code",
        "outputId": "3a0dd151-2bdf-44c5-9403-64fda7ea5478",
        "colab": {
          "base_uri": "https://localhost:8080/",
          "height": 119
        }
      },
      "cell_type": "code",
      "source": [
        "train['brand_name'].value_counts()[:5]"
      ],
      "execution_count": 19,
      "outputs": [
        {
          "output_type": "execute_result",
          "data": {
            "text/plain": [
              "missing              632682\n",
              "PINK                  54088\n",
              "Nike                  54043\n",
              "Victoria's Secret     48036\n",
              "LuLaRoe               31024\n",
              "Name: brand_name, dtype: int64"
            ]
          },
          "metadata": {
            "tags": []
          },
          "execution_count": 19
        }
      ]
    },
    {
      "metadata": {
        "id": "VZBG5-g3JWSC",
        "colab_type": "code",
        "outputId": "f92f6e95-a1b7-481a-9562-3f751606319e",
        "colab": {
          "base_uri": "https://localhost:8080/",
          "height": 187
        }
      },
      "cell_type": "code",
      "source": [
        "brand_names=train.brand_name.unique()\n",
        "brandexpense=list()\n",
        "for name in brand_names:\n",
        "    if len(train[train['brand_name']==name] )>=50:\n",
        "                       brandexpense.append([name,train.price[train['brand_name']==name].median()])\n",
        "    \n",
        "brandexpense.sort(key=lambda x: x[1],reverse=True)\n",
        "brandexpense[:10]"
      ],
      "execution_count": 20,
      "outputs": [
        {
          "output_type": "execute_result",
          "data": {
            "text/plain": [
              "[['David Yurman', 220.0],\n",
              " ['Balenciaga', 176.0],\n",
              " ['Christian Louboutin', 156.0],\n",
              " ['Tieks', 156.0],\n",
              " ['Sherri Hill', 151.0],\n",
              " ['Celine', 149.0],\n",
              " ['Jovani', 139.0],\n",
              " ['MICHELE', 134.0],\n",
              " ['Go Gear', 132.5],\n",
              " ['MCM Worldwide', 129.0]]"
            ]
          },
          "metadata": {
            "tags": []
          },
          "execution_count": 20
        }
      ]
    },
    {
      "metadata": {
        "id": "UZ2ppvovJWSG",
        "colab_type": "code",
        "outputId": "f0ecc841-8504-44d7-83d4-920362acc1bf",
        "colab": {
          "base_uri": "https://localhost:8080/",
          "height": 68
        }
      },
      "cell_type": "code",
      "source": [
        "train['shipping'].value_counts()\n"
      ],
      "execution_count": 21,
      "outputs": [
        {
          "output_type": "execute_result",
          "data": {
            "text/plain": [
              "0    819435\n",
              "1    663100\n",
              "Name: shipping, dtype: int64"
            ]
          },
          "metadata": {
            "tags": []
          },
          "execution_count": 21
        }
      ]
    },
    {
      "metadata": {
        "id": "FCPj88vfJWSJ",
        "colab_type": "code",
        "outputId": "a691c35f-4cce-418b-de5f-9ae798a7c4ef",
        "colab": {
          "base_uri": "https://localhost:8080/",
          "height": 85
        }
      },
      "cell_type": "code",
      "source": [
        "\n",
        "print(\"If shipping =1, then , delivery charges are borne by the buyer\")\n",
        "print(\"If shipping =0 , then ,delivery charges are borne by the seller\")\n",
        "print(\"Percentage of shipping =1 : \", 663100*100/train.shape[0])\n",
        "print(\"Percentage of shipping =0 : \",819435*100/train.shape[0])"
      ],
      "execution_count": 22,
      "outputs": [
        {
          "output_type": "stream",
          "text": [
            "If shipping =1, then , delivery charges are borne by the buyer\n",
            "If shipping =0 , then ,delivery charges are borne by the seller\n",
            "Percentage of shipping =1 :  44.727443196956564\n",
            "Percentage of shipping =0 :  55.272556803043436\n"
          ],
          "name": "stdout"
        }
      ]
    },
    {
      "metadata": {
        "id": "ieZ6JqfSJWSO",
        "colab_type": "code",
        "outputId": "bd51dbe0-921a-4118-ae37-3d9358d778cb",
        "colab": {}
      },
      "cell_type": "code",
      "source": [
        "print('Mean price of items for which shipping fees is borne by seller is ',train.price[train['shipping']==0].mean())\n",
        "print('Mean price of items for which shipping fees is borne by buyer is ',train.price[train['shipping']==1].mean())"
      ],
      "execution_count": 0,
      "outputs": [
        {
          "output_type": "stream",
          "text": [
            "Mean price of items for which shipping fees is borne by seller is  30.111777627267568\n",
            "Mean price of items for which shipping fees is borne by buyer is  22.56772583320766\n"
          ],
          "name": "stdout"
        }
      ]
    },
    {
      "metadata": {
        "id": "29KQaki_JWST",
        "colab_type": "code",
        "outputId": "fa626dce-ca40-49fa-bfeb-02db53c197a9",
        "colab": {}
      },
      "cell_type": "code",
      "source": [
        "sel= train.loc[train.shipping==1, 'price']\n",
        "buy= train.loc[train.shipping==0, 'price']\n",
        "fig, ax = plt.subplots(figsize=(10,5))\n",
        "ax.hist(np.log(sel+1), alpha=1.0, bins=50,\n",
        "       label='Price when Seller bears Shipping Fee')\n",
        "ax.hist(np.log(buy+1), alpha=0.7, bins=50,\n",
        "       label='Price when Buyer bears Shipping fee')\n",
        "ax.set(title='Histogram Comparison', ylabel='% of Dataset in Bin')\n",
        "plt.xlabel('log(price+1)', fontsize=17)\n",
        "plt.ylabel('frequency', fontsize=17)\n",
        "plt.title('Price Distribution by Shipping Type', fontsize=17)\n",
        "plt.tick_params(labelsize=15)\n",
        "plt.show()\n"
      ],
      "execution_count": 0,
      "outputs": [
        {
          "output_type": "display_data",
          "data": {
            "image/png": "[encoded data removed]",
            "text/plain": [
              "<matplotlib.figure.Figure at 0xbab5f10>"
            ]
          },
          "metadata": {
            "tags": []
          }
        }
      ]
    },
    {
      "metadata": {
        "id": "NrvNIRfBJWSW",
        "colab_type": "code",
        "outputId": "7bd8b0b0-4ee4-4ba4-b4fc-f8e2c40a658b",
        "colab": {}
      },
      "cell_type": "code",
      "source": [
        "train.item_condition_id.describe()"
      ],
      "execution_count": 0,
      "outputs": [
        {
          "output_type": "execute_result",
          "data": {
            "text/plain": [
              "count    1.482535e+06\n",
              "mean     1.907380e+00\n",
              "std      9.031586e-01\n",
              "min      1.000000e+00\n",
              "25%      1.000000e+00\n",
              "50%      2.000000e+00\n",
              "75%      3.000000e+00\n",
              "max      5.000000e+00\n",
              "Name: item_condition_id, dtype: float64"
            ]
          },
          "metadata": {
            "tags": []
          },
          "execution_count": 25
        }
      ]
    },
    {
      "metadata": {
        "id": "U5XFyGfrJWSa",
        "colab_type": "code",
        "colab": {}
      },
      "cell_type": "code",
      "source": [
        "item_id=train['item_condition_id'].value_counts()"
      ],
      "execution_count": 0,
      "outputs": []
    },
    {
      "metadata": {
        "id": "rk3GM78QJWSc",
        "colab_type": "code",
        "outputId": "1d272638-ce2a-47b3-e584-f05cf44ba685",
        "colab": {}
      },
      "cell_type": "code",
      "source": [
        "train['item_condition_id'].value_counts()"
      ],
      "execution_count": 0,
      "outputs": [
        {
          "output_type": "execute_result",
          "data": {
            "text/plain": [
              "1    640549\n",
              "3    432161\n",
              "2    375479\n",
              "4     31962\n",
              "5      2384\n",
              "Name: item_condition_id, dtype: int64"
            ]
          },
          "metadata": {
            "tags": []
          },
          "execution_count": 27
        }
      ]
    },
    {
      "metadata": {
        "id": "ncxgHWmCJWSg",
        "colab_type": "code",
        "outputId": "470fe9cd-e818-4d38-c413-92fa13bb79f7",
        "colab": {}
      },
      "cell_type": "code",
      "source": [
        "item_id.plot(kind='bar')"
      ],
      "execution_count": 0,
      "outputs": [
        {
          "output_type": "execute_result",
          "data": {
            "text/plain": [
              "<matplotlib.axes._subplots.AxesSubplot at 0xbae7e50>"
            ]
          },
          "metadata": {
            "tags": []
          },
          "execution_count": 28
        },
        {
          "output_type": "display_data",
          "data": {
            "image/png": "[encoded data removed]",
            "text/plain": [
              "<matplotlib.figure.Figure at 0xbae7b30>"
            ]
          },
          "metadata": {
            "tags": []
          }
        }
      ]
    },
    {
      "metadata": {
        "id": "S_5mngjxJWSk",
        "colab_type": "code",
        "outputId": "738d5b96-4d9e-41fc-d284-1a5b8302df80",
        "colab": {}
      },
      "cell_type": "code",
      "source": [
        "sns.boxplot(x='item_condition_id',y=np.log(train.price+1), data=train)\n",
        "plt.show()"
      ],
      "execution_count": 0,
      "outputs": [
        {
          "output_type": "display_data",
          "data": {
            "image/png": "[encoded data removed]",
            "text/plain": [
              "<matplotlib.figure.Figure at 0xc7b33b0>"
            ]
          },
          "metadata": {
            "tags": []
          }
        }
      ]
    },
    {
      "metadata": {
        "id": "Gd4CibP6JWSo",
        "colab_type": "code",
        "outputId": "bed6533d-f3f8-4a08-c5d1-a28f666bac46",
        "colab": {}
      },
      "cell_type": "code",
      "source": [
        "len(train.category_name.unique())"
      ],
      "execution_count": 0,
      "outputs": [
        {
          "output_type": "execute_result",
          "data": {
            "text/plain": [
              "1288"
            ]
          },
          "metadata": {
            "tags": []
          },
          "execution_count": 30
        }
      ]
    },
    {
      "metadata": {
        "id": "05hTqT2lJWSu",
        "colab_type": "code",
        "outputId": "f1527bec-7a67-41b2-8664-e06c9e02b93b",
        "colab": {}
      },
      "cell_type": "code",
      "source": [
        "train.category_name.isna().sum()"
      ],
      "execution_count": 0,
      "outputs": [
        {
          "output_type": "execute_result",
          "data": {
            "text/plain": [
              "6327"
            ]
          },
          "metadata": {
            "tags": []
          },
          "execution_count": 31
        }
      ]
    },
    {
      "metadata": {
        "id": "LY5fkmRNJWSy",
        "colab_type": "code",
        "outputId": "2e4a7a78-3499-40b9-9b61-bc5214a4d9a6",
        "colab": {}
      },
      "cell_type": "code",
      "source": [
        "print(\"Percentage of Missing values: \",6327*100/train.shape[0])"
      ],
      "execution_count": 0,
      "outputs": [
        {
          "output_type": "stream",
          "text": [
            "Percentage of Missing values:  0.42676901388500105\n"
          ],
          "name": "stdout"
        }
      ]
    },
    {
      "metadata": {
        "id": "tYrY_C23JWS1",
        "colab_type": "code",
        "outputId": "69724329-4256-49c2-9206-fce5d17110d5",
        "colab": {}
      },
      "cell_type": "code",
      "source": [
        "train.category_name.describe()"
      ],
      "execution_count": 0,
      "outputs": [
        {
          "output_type": "execute_result",
          "data": {
            "text/plain": [
              "count                                            1476208\n",
              "unique                                              1287\n",
              "top       Women/Athletic Apparel/Pants, Tights, Leggings\n",
              "freq                                               60177\n",
              "Name: category_name, dtype: object"
            ]
          },
          "metadata": {
            "tags": []
          },
          "execution_count": 33
        }
      ]
    },
    {
      "metadata": {
        "id": "75swUrwAJWS4",
        "colab_type": "code",
        "outputId": "9c57a26d-fdf2-4873-b167-dcd190f19003",
        "colab": {}
      },
      "cell_type": "code",
      "source": [
        "train.category_name.value_counts()[:20]"
      ],
      "execution_count": 0,
      "outputs": [
        {
          "output_type": "execute_result",
          "data": {
            "text/plain": [
              "Women/Athletic Apparel/Pants, Tights, Leggings                 60177\n",
              "Women/Tops & Blouses/T-Shirts                                  46380\n",
              "Beauty/Makeup/Face                                             34335\n",
              "Beauty/Makeup/Lips                                             29910\n",
              "Electronics/Video Games & Consoles/Games                       26557\n",
              "Beauty/Makeup/Eyes                                             25215\n",
              "Electronics/Cell Phones & Accessories/Cases, Covers & Skins    24676\n",
              "Women/Underwear/Bras                                           21274\n",
              "Women/Tops & Blouses/Blouse                                    20284\n",
              "Women/Tops & Blouses/Tank, Cami                                20284\n",
              "Women/Dresses/Above Knee, Mini                                 20082\n",
              "Women/Jewelry/Necklaces                                        19758\n",
              "Women/Athletic Apparel/Shorts                                  19528\n",
              "Beauty/Makeup/Makeup Palettes                                  19103\n",
              "Women/Shoes/Boots                                              18864\n",
              "Beauty/Fragrance/Women                                         18628\n",
              "Beauty/Skin Care/Face                                          15836\n",
              "Women/Women's Handbags/Shoulder Bag                            15328\n",
              "Men/Tops/T-shirts                                              15108\n",
              "Women/Dresses/Knee-Length                                      14770\n",
              "Name: category_name, dtype: int64"
            ]
          },
          "metadata": {
            "tags": []
          },
          "execution_count": 34
        }
      ]
    },
    {
      "metadata": {
        "id": "yRNm7SUxJWS8",
        "colab_type": "code",
        "colab": {}
      },
      "cell_type": "code",
      "source": [
        "def transform_category_name(category_name):\n",
        "    try:\n",
        "        main, sub1, sub2= category_name.split('/')\n",
        "        return main, sub1, sub2\n",
        "    except:\n",
        "        return np.nan, np.nan, np.nan\n",
        "\n"
      ],
      "execution_count": 0,
      "outputs": []
    },
    {
      "metadata": {
        "id": "e5fKjlSoJWTA",
        "colab_type": "code",
        "colab": {}
      },
      "cell_type": "code",
      "source": [
        "train['category_main'], train['category_sub1'], train['category_sub2'] = zip(*train['category_name'].apply(transform_category_name))"
      ],
      "execution_count": 0,
      "outputs": []
    },
    {
      "metadata": {
        "id": "xNyAhxxzJWTH",
        "colab_type": "code",
        "outputId": "bd72f07a-34b5-43eb-972a-8c5750fc2ca6",
        "colab": {
          "base_uri": "https://localhost:8080/",
          "height": 204
        }
      },
      "cell_type": "code",
      "source": [
        "maincat = [x for x in train['category_main'].unique() if type(x)==str]\n",
        "catsum=0\n",
        "for x in maincat:\n",
        "    catsum+=100*len(train[train['category_main']==x])/len(train)\n",
        "    print('{:25}{:3f}% of training data'.format(x, 100*len(train[train['category_main']==x])/len(train)))\n",
        "print('nan {:3f}% of training data'.format(100-catsum))"
      ],
      "execution_count": 0,
      "outputs": [
        {
          "output_type": "stream",
          "text": [
            "Men                      6.297524% of training data\n",
            "Electronics              8.069354% of training data\n",
            "Women                    44.814119% of training data\n",
            "Home                     4.578037% of training data\n",
            "Sports & Outdoors        1.641175% of training data\n",
            "Vintage & Collectibles   3.138543% of training data\n",
            "Beauty                   14.018421% of training data\n",
            "Other                    3.059017% of training data\n",
            "Kids                     11.580772% of training data\n",
            "Handmade                 2.080221% of training data\n",
            "nan 0.722816% of training data\n"
          ],
          "name": "stdout"
        }
      ]
    },
    {
      "metadata": {
        "id": "YW0Eisa3JWTK",
        "colab_type": "code",
        "outputId": "0db450ee-7a5e-49bb-946c-bf1a28a23149",
        "colab": {}
      },
      "cell_type": "code",
      "source": [
        "category_names=train.category_main.unique()\n",
        "expensive_cat=list()\n",
        "category_names"
      ],
      "execution_count": 0,
      "outputs": [
        {
          "output_type": "execute_result",
          "data": {
            "text/plain": [
              "array(['Men', 'Electronics', 'Women', 'Home', 'Sports & Outdoors',\n",
              "       'Vintage & Collectibles', 'Beauty', 'Other', 'Kids', nan,\n",
              "       'Handmade'], dtype=object)"
            ]
          },
          "metadata": {
            "tags": []
          },
          "execution_count": 38
        }
      ]
    },
    {
      "metadata": {
        "id": "TjfP7sqsJWTO",
        "colab_type": "code",
        "outputId": "653d2c2a-703e-4b81-8589-24e4a042afc6",
        "colab": {}
      },
      "cell_type": "code",
      "source": [
        "train.category_main.isna().sum()\n",
        "train.category_sub1.isna().sum()\n",
        "train.category_sub2.isna().sum()\n"
      ],
      "execution_count": 0,
      "outputs": [
        {
          "output_type": "execute_result",
          "data": {
            "text/plain": [
              "10716"
            ]
          },
          "metadata": {
            "tags": []
          },
          "execution_count": 39
        }
      ]
    },
    {
      "metadata": {
        "id": "ByNG0GpLJWTU",
        "colab_type": "code",
        "outputId": "34c33f75-6b54-4802-8b69-944c49d3ac23",
        "colab": {}
      },
      "cell_type": "code",
      "source": [
        "print(\"Percentage of missing values: \",10716*100/len(train.category_name))"
      ],
      "execution_count": 0,
      "outputs": [
        {
          "output_type": "stream",
          "text": [
            "Percentage of missing values:  0.7228159874809026\n"
          ],
          "name": "stdout"
        }
      ]
    },
    {
      "metadata": {
        "id": "eInNg_XEJWTZ",
        "colab_type": "code",
        "colab": {}
      },
      "cell_type": "code",
      "source": [
        "for name in category_names:\n",
        "    if len(train[train['category_main']==name] )>=10:\n",
        "                       expensive_cat.append([name,train.price[train['category_main']==name].median()])\n"
      ],
      "execution_count": 0,
      "outputs": []
    },
    {
      "metadata": {
        "id": "R1R7w-VwJWTe",
        "colab_type": "code",
        "colab": {}
      },
      "cell_type": "code",
      "source": [
        "expensive_cat.sort(key=lambda x: x[1],reverse=True)"
      ],
      "execution_count": 0,
      "outputs": []
    },
    {
      "metadata": {
        "id": "fNZzqItlJWTh",
        "colab_type": "code",
        "outputId": "f0dd4d03-41de-4385-ce40-f6a5bde9e68c",
        "colab": {}
      },
      "cell_type": "code",
      "source": [
        "expensive_cat"
      ],
      "execution_count": 0,
      "outputs": [
        {
          "output_type": "execute_result",
          "data": {
            "text/plain": [
              "[['Men', 21.0],\n",
              " ['Women', 19.0],\n",
              " ['Home', 18.0],\n",
              " ['Sports & Outdoors', 16.0],\n",
              " ['Vintage & Collectibles', 16.0],\n",
              " ['Electronics', 15.0],\n",
              " ['Beauty', 15.0],\n",
              " ['Other', 14.0],\n",
              " ['Kids', 14.0],\n",
              " ['Handmade', 12.0]]"
            ]
          },
          "metadata": {
            "tags": []
          },
          "execution_count": 43
        }
      ]
    },
    {
      "metadata": {
        "id": "FZ3MscCIJWTl",
        "colab_type": "code",
        "outputId": "72cab2b5-770f-4e9a-aed2-0be20831ed09",
        "colab": {}
      },
      "cell_type": "code",
      "source": [
        "df1 = train.groupby(['category_main'])['price'].agg(['size','sum'])\n",
        "df1['mean_price']=df1['sum']/df1['size']\n",
        "df1.sort_values(by=['mean_price'], ascending=False, inplace=True)\n",
        "df1 = df1[:10]\n",
        "df1.sort_values(by=['mean_price'], ascending=True, inplace=True)\n",
        "\n",
        "plt.figure(figsize=(10, 4))\n",
        "plt.barh(range(0,len(df1)), df1['mean_price'])\n",
        "plt.yticks(range(0,len(df1)), df1.index, fontsize=10)\n",
        "plt.xticks(fontsize=10)\n",
        "\n",
        "plt.xlabel('Price', fontsize=10)\n",
        "\n",
        "plt.legend(fontsize=10)\n",
        "plt.show()"
      ],
      "execution_count": 0,
      "outputs": [
        {
          "output_type": "stream",
          "text": [
            "No handles with labels found to put in legend.\n"
          ],
          "name": "stderr"
        },
        {
          "output_type": "display_data",
          "data": {
            "image/png": "[encoded data removed]",
            "text/plain": [
              "<matplotlib.figure.Figure at 0xc7ebc70>"
            ]
          },
          "metadata": {
            "tags": []
          }
        }
      ]
    },
    {
      "metadata": {
        "id": "riSDKHmyJWTo",
        "colab_type": "code",
        "outputId": "c75519e1-1475-411e-8e46-a9264496d28a",
        "colab": {}
      },
      "cell_type": "code",
      "source": [
        "train.columns"
      ],
      "execution_count": 0,
      "outputs": [
        {
          "output_type": "execute_result",
          "data": {
            "text/plain": [
              "Index(['train_id', 'name', 'item_condition_id', 'category_name', 'brand_name',\n",
              "       'price', 'shipping', 'item_description', 'category_main',\n",
              "       'category_sub1', 'category_sub2'],\n",
              "      dtype='object')"
            ]
          },
          "metadata": {
            "tags": []
          },
          "execution_count": 45
        }
      ]
    },
    {
      "metadata": {
        "id": "wQy8a-n5JWTr",
        "colab_type": "code",
        "outputId": "58da5457-df68-4893-8f55-9541251e8863",
        "colab": {}
      },
      "cell_type": "code",
      "source": [
        "train.category_sub1.describe()"
      ],
      "execution_count": 0,
      "outputs": [
        {
          "output_type": "execute_result",
          "data": {
            "text/plain": [
              "count              1471819\n",
              "unique                 113\n",
              "top       Athletic Apparel\n",
              "freq                134383\n",
              "Name: category_sub1, dtype: object"
            ]
          },
          "metadata": {
            "tags": []
          },
          "execution_count": 46
        }
      ]
    },
    {
      "metadata": {
        "id": "30IOJuzHJWTv",
        "colab_type": "code",
        "outputId": "072cd692-d1ee-477a-c5d0-716749145efa",
        "colab": {}
      },
      "cell_type": "code",
      "source": [
        "df = train.groupby(['category_sub1'])['price'].agg(['size','sum'])\n",
        "df['mean_price']=df['sum']/df['size']\n",
        "df.sort_values(by=['mean_price'], ascending=False, inplace=True)\n",
        "df = df[:10]\n",
        "df.sort_values(by=['mean_price'], ascending=True, inplace=True)\n",
        "\n",
        "plt.figure(figsize=(10, 4))\n",
        "plt.barh(range(0,len(df)), df['mean_price'])\n",
        "plt.yticks(range(0,len(df)), df.index, fontsize=10)\n",
        "plt.xticks(fontsize=10)\n",
        "\n",
        "plt.xlabel('Price', fontsize=10)\n",
        "\n",
        "plt.legend(fontsize=10)\n",
        "plt.show()"
      ],
      "execution_count": 0,
      "outputs": [
        {
          "output_type": "stream",
          "text": [
            "No handles with labels found to put in legend.\n"
          ],
          "name": "stderr"
        },
        {
          "output_type": "display_data",
          "data": {
            "image/png": "[encoded data removed]",
            "text/plain": [
              "<matplotlib.figure.Figure at 0x42c8290>"
            ]
          },
          "metadata": {
            "tags": []
          }
        }
      ]
    },
    {
      "metadata": {
        "id": "35Tsl--vJWT1",
        "colab_type": "code",
        "outputId": "d0b20ee6-06ef-4c0d-c38e-8770cc51886b",
        "colab": {}
      },
      "cell_type": "code",
      "source": [
        "train.category_sub2.describe()"
      ],
      "execution_count": 0,
      "outputs": [
        {
          "output_type": "execute_result",
          "data": {
            "text/plain": [
              "count                     1471819\n",
              "unique                        864\n",
              "top       Pants, Tights, Leggings\n",
              "freq                        60177\n",
              "Name: category_sub2, dtype: object"
            ]
          },
          "metadata": {
            "tags": []
          },
          "execution_count": 48
        }
      ]
    },
    {
      "metadata": {
        "id": "FLQJ3ulAJWT3",
        "colab_type": "code",
        "outputId": "3e0e91c2-e8e0-43be-8fa7-725527c017e3",
        "colab": {}
      },
      "cell_type": "code",
      "source": [
        "df2 = train.groupby(['category_sub2'])['price'].agg(['size','sum'])\n",
        "df2['mean_price']=df2['sum']/df2['size']\n",
        "df2.sort_values(by=['mean_price'], ascending=False, inplace=True)\n",
        "df2 = df2[:10]\n",
        "df2.sort_values(by=['mean_price'], ascending=True, inplace=True)\n",
        "\n",
        "plt.figure(figsize=(10, 4))\n",
        "plt.barh(range(0,len(df2)), df2['mean_price'])\n",
        "plt.yticks(range(0,len(df2)), df2.index, fontsize=10)\n",
        "plt.xticks(fontsize=15)\n",
        "\n",
        "plt.xlabel('Price', fontsize=10)\n",
        "\n",
        "plt.legend(fontsize=10)\n",
        "plt.show()"
      ],
      "execution_count": 0,
      "outputs": [
        {
          "output_type": "stream",
          "text": [
            "No handles with labels found to put in legend.\n"
          ],
          "name": "stderr"
        },
        {
          "output_type": "display_data",
          "data": {
            "image/png": "[encoded data removed]",
            "text/plain": [
              "<matplotlib.figure.Figure at 0x4086f90>"
            ]
          },
          "metadata": {
            "tags": []
          }
        }
      ]
    },
    {
      "metadata": {
        "id": "Smft9PVtJWT9",
        "colab_type": "code",
        "outputId": "c49abfbb-caea-4ba7-fbfa-e7e67d8fc2ef",
        "colab": {}
      },
      "cell_type": "code",
      "source": [
        "train.name.describe()"
      ],
      "execution_count": 0,
      "outputs": [
        {
          "output_type": "execute_result",
          "data": {
            "text/plain": [
              "count     1482535\n",
              "unique    1225273\n",
              "top        Bundle\n",
              "freq         2232\n",
              "Name: name, dtype: object"
            ]
          },
          "metadata": {
            "tags": []
          },
          "execution_count": 50
        }
      ]
    },
    {
      "metadata": {
        "id": "uSdqzkLyJWT_",
        "colab_type": "code",
        "outputId": "2271f447-13e5-4685-e20d-a838aeb05d2b",
        "colab": {}
      },
      "cell_type": "code",
      "source": [
        "print(\"Number of duplicate values: \",len(train.name)-len(train.name.unique()))"
      ],
      "execution_count": 0,
      "outputs": [
        {
          "output_type": "stream",
          "text": [
            "Number of duplicate values:  257262\n"
          ],
          "name": "stdout"
        }
      ]
    },
    {
      "metadata": {
        "id": "5mFqeCg-JWUD",
        "colab_type": "code",
        "outputId": "14c36c11-c408-4dd7-8a75-92dbdc16b303",
        "colab": {}
      },
      "cell_type": "code",
      "source": [
        "print(\"Percentage of duplicate values: \",257262*100/len(train.name))"
      ],
      "execution_count": 0,
      "outputs": [
        {
          "output_type": "stream",
          "text": [
            "Percentage of duplicate values:  17.35284495812915\n"
          ],
          "name": "stdout"
        }
      ]
    },
    {
      "metadata": {
        "id": "b6hKBDRSJWUG",
        "colab_type": "code",
        "outputId": "04fe9ed5-81ca-4aae-fde4-883b08e84455",
        "colab": {
          "base_uri": "https://localhost:8080/",
          "height": 204
        }
      },
      "cell_type": "code",
      "source": [
        "train.name.value_counts()[:10]"
      ],
      "execution_count": 0,
      "outputs": [
        {
          "output_type": "execute_result",
          "data": {
            "text/plain": [
              "Bundle                 2232\n",
              "Reserved                453\n",
              "Converse                445\n",
              "BUNDLE                  418\n",
              "Dress                   410\n",
              "Coach purse             404\n",
              "Lularoe TC leggings     396\n",
              "Romper                  353\n",
              "Nike                    340\n",
              "Vans                    334\n",
              "Name: name, dtype: int64"
            ]
          },
          "metadata": {
            "tags": []
          },
          "execution_count": 5
        }
      ]
    },
    {
      "metadata": {
        "id": "PXgZb8zwJWUI",
        "colab_type": "code",
        "colab": {}
      },
      "cell_type": "code",
      "source": [
        "train.name=train.name.str.lower()"
      ],
      "execution_count": 0,
      "outputs": []
    },
    {
      "metadata": {
        "scrolled": true,
        "id": "79aJsZMuJWUK",
        "colab_type": "code",
        "outputId": "325f5bfc-8e13-4294-821d-7a9f59d2fbe2",
        "colab": {
          "base_uri": "https://localhost:8080/",
          "height": 204
        }
      },
      "cell_type": "code",
      "source": [
        "train.name.value_counts()[:10]"
      ],
      "execution_count": 0,
      "outputs": [
        {
          "output_type": "execute_result",
          "data": {
            "text/plain": [
              "Bundle                 2232\n",
              "Reserved                453\n",
              "Converse                445\n",
              "BUNDLE                  418\n",
              "Dress                   410\n",
              "Coach purse             404\n",
              "Lularoe TC leggings     396\n",
              "Romper                  353\n",
              "Nike                    340\n",
              "Vans                    334\n",
              "Name: name, dtype: int64"
            ]
          },
          "metadata": {
            "tags": []
          },
          "execution_count": 4
        }
      ]
    },
    {
      "metadata": {
        "id": "3ZqS4IJNJWUR",
        "colab_type": "code",
        "colab": {}
      },
      "cell_type": "code",
      "source": [
        "m=[]\n",
        "k=[]\n",
        "for i in train['name']:\n",
        "    m=i.split()\n",
        "    k.append(len(m))\n",
        "    m=[]\n"
      ],
      "execution_count": 0,
      "outputs": []
    },
    {
      "metadata": {
        "id": "WlGK7Mn0JWUU",
        "colab_type": "code",
        "outputId": "4e5a1414-65a4-4ed0-b4ec-4baf07f54de0",
        "colab": {}
      },
      "cell_type": "code",
      "source": [
        "plt.plot(k)"
      ],
      "execution_count": 0,
      "outputs": [
        {
          "output_type": "execute_result",
          "data": {
            "text/plain": [
              "[<matplotlib.lines.Line2D at 0x26ea2930>]"
            ]
          },
          "metadata": {
            "tags": []
          },
          "execution_count": 57
        },
        {
          "output_type": "display_data",
          "data": {
            "image/png": "[encoded data removed]",
            "text/plain": [
              "<matplotlib.figure.Figure at 0x27e3b2b0>"
            ]
          },
          "metadata": {
            "tags": []
          }
        }
      ]
    },
    {
      "metadata": {
        "id": "7iypoQNGJWUX",
        "colab_type": "code",
        "outputId": "b4832206-6abf-4b36-f4f4-7014069a1cde",
        "colab": {}
      },
      "cell_type": "code",
      "source": [
        "print(max(k))\n",
        "print(min(k))\n",
        "print(k.index(1))"
      ],
      "execution_count": 0,
      "outputs": [
        {
          "output_type": "stream",
          "text": [
            "17\n",
            "1\n",
            "98\n"
          ],
          "name": "stdout"
        }
      ]
    },
    {
      "metadata": {
        "id": "T38mqJiqJWUZ",
        "colab_type": "code",
        "outputId": "561a0fba-0f52-4240-bd07-5761080a5745",
        "colab": {}
      },
      "cell_type": "code",
      "source": [
        "print(train.iloc[[98]])"
      ],
      "execution_count": 0,
      "outputs": [
        {
          "output_type": "stream",
          "text": [
            "    train_id   name  item_condition_id                  category_name  \\\n",
            "98        98  gucci                  3  Men/Men's Accessories/Watches   \n",
            "\n",
            "   brand_name  price  shipping  \\\n",
            "98    missing   49.0         0   \n",
            "\n",
            "                                     item_description category_main  \\\n",
            "98  Rose gold bezel and crown Engraved logo Red an...           Men   \n",
            "\n",
            "        category_sub1 category_sub2  \n",
            "98  Men's Accessories       Watches  \n"
          ],
          "name": "stdout"
        }
      ]
    },
    {
      "metadata": {
        "id": "Qnwi84kRJWUc",
        "colab_type": "code",
        "outputId": "be46f205-d0d9-4eda-b135-f0b1bf191e5d",
        "colab": {}
      },
      "cell_type": "code",
      "source": [
        "train['item_description'].describe()"
      ],
      "execution_count": 0,
      "outputs": [
        {
          "output_type": "execute_result",
          "data": {
            "text/plain": [
              "count                1482531\n",
              "unique               1281426\n",
              "top       No description yet\n",
              "freq                   82489\n",
              "Name: item_description, dtype: object"
            ]
          },
          "metadata": {
            "tags": []
          },
          "execution_count": 74
        }
      ]
    },
    {
      "metadata": {
        "id": "SUoIMVVCJWUf",
        "colab_type": "code",
        "colab": {}
      },
      "cell_type": "code",
      "source": [
        "train['item_description'] = train['item_description'].str.lower()"
      ],
      "execution_count": 0,
      "outputs": []
    },
    {
      "metadata": {
        "id": "GZZcfTBzJWUh",
        "colab_type": "code",
        "outputId": "a2178950-c0cc-439a-fae9-9a7f47c81782",
        "colab": {}
      },
      "cell_type": "code",
      "source": [
        "train[train.item_description.isna()]"
      ],
      "execution_count": 0,
      "outputs": [
        {
          "output_type": "execute_result",
          "data": {
            "text/html": [
              "<div>\n",
              "<style scoped>\n",
              "    .dataframe tbody tr th:only-of-type {\n",
              "        vertical-align: middle;\n",
              "    }\n",
              "\n",
              "    .dataframe tbody tr th {\n",
              "        vertical-align: top;\n",
              "    }\n",
              "\n",
              "    .dataframe thead th {\n",
              "        text-align: right;\n",
              "    }\n",
              "</style>\n",
              "<table border=\"1\" class=\"dataframe\">\n",
              "  <thead>\n",
              "    <tr style=\"text-align: right;\">\n",
              "      <th></th>\n",
              "      <th>train_id</th>\n",
              "      <th>name</th>\n",
              "      <th>item_condition_id</th>\n",
              "      <th>category_name</th>\n",
              "      <th>brand_name</th>\n",
              "      <th>price</th>\n",
              "      <th>shipping</th>\n",
              "      <th>item_description</th>\n",
              "    </tr>\n",
              "  </thead>\n",
              "  <tbody>\n",
              "    <tr>\n",
              "      <th>511535</th>\n",
              "      <td>511535</td>\n",
              "      <td>Shoes for Michelle</td>\n",
              "      <td>4</td>\n",
              "      <td>Kids/Girls 0-24 Mos/Shoes</td>\n",
              "      <td>NaN</td>\n",
              "      <td>9.0</td>\n",
              "      <td>0</td>\n",
              "      <td>NaN</td>\n",
              "    </tr>\n",
              "    <tr>\n",
              "      <th>861230</th>\n",
              "      <td>861230</td>\n",
              "      <td>Lipgloss</td>\n",
              "      <td>4</td>\n",
              "      <td>Beauty/Makeup/Lips</td>\n",
              "      <td>NaN</td>\n",
              "      <td>49.0</td>\n",
              "      <td>0</td>\n",
              "      <td>NaN</td>\n",
              "    </tr>\n",
              "    <tr>\n",
              "      <th>1224924</th>\n",
              "      <td>1224924</td>\n",
              "      <td>Disney Minnie Head band</td>\n",
              "      <td>3</td>\n",
              "      <td>Women/Women's Accessories/Hair Accessories</td>\n",
              "      <td>Disney</td>\n",
              "      <td>9.0</td>\n",
              "      <td>0</td>\n",
              "      <td>NaN</td>\n",
              "    </tr>\n",
              "    <tr>\n",
              "      <th>1264242</th>\n",
              "      <td>1264242</td>\n",
              "      <td>For Bianca</td>\n",
              "      <td>3</td>\n",
              "      <td>Women/Women's Accessories/Scarves &amp; Wraps</td>\n",
              "      <td>NaN</td>\n",
              "      <td>10.0</td>\n",
              "      <td>1</td>\n",
              "      <td>NaN</td>\n",
              "    </tr>\n",
              "  </tbody>\n",
              "</table>\n",
              "</div>"
            ],
            "text/plain": [
              "         train_id                     name  item_condition_id  \\\n",
              "511535     511535       Shoes for Michelle                  4   \n",
              "861230     861230                 Lipgloss                  4   \n",
              "1224924   1224924  Disney Minnie Head band                  3   \n",
              "1264242   1264242               For Bianca                  3   \n",
              "\n",
              "                                      category_name brand_name  price  \\\n",
              "511535                    Kids/Girls 0-24 Mos/Shoes        NaN    9.0   \n",
              "861230                           Beauty/Makeup/Lips        NaN   49.0   \n",
              "1224924  Women/Women's Accessories/Hair Accessories     Disney    9.0   \n",
              "1264242   Women/Women's Accessories/Scarves & Wraps        NaN   10.0   \n",
              "\n",
              "         shipping item_description  \n",
              "511535          0              NaN  \n",
              "861230          0              NaN  \n",
              "1224924         0              NaN  \n",
              "1264242         1              NaN  "
            ]
          },
          "metadata": {
            "tags": []
          },
          "execution_count": 15
        }
      ]
    },
    {
      "metadata": {
        "id": "FPDIu-L_JWUk",
        "colab_type": "raw"
      },
      "cell_type": "markdown",
      "source": [
        ""
      ]
    },
    {
      "metadata": {
        "id": "8EnKHqjnJWUk",
        "colab_type": "code",
        "outputId": "d8b8428d-b45d-41fb-bbef-60bef728f7e1",
        "colab": {
          "base_uri": "https://localhost:8080/",
          "height": 351
        }
      },
      "cell_type": "code",
      "source": [
        "from wordcloud import WordCloud\n",
        "\n",
        "wordcloud = WordCloud(width = 500, height = 500).generate(\" \".join(train.item_description.astype(str)))\n",
        "\n",
        "plt.imshow(wordcloud)\n",
        "plt.axis(\"off\")\n",
        "plt.show()"
      ],
      "execution_count": 0,
      "outputs": [
        {
          "output_type": "display_data",
          "data": {
            "image/png": "[encoded data removed]",
            "text/plain": [
              "<matplotlib.figure.Figure at 0x7fb47d51ce80>"
            ]
          },
          "metadata": {
            "tags": []
          }
        }
      ]
    },
    {
      "metadata": {
        "id": "_1AtgOPZJWUn",
        "colab_type": "code",
        "outputId": "1b3e61b4-f14a-485d-e846-df3c8577bcfd",
        "colab": {
          "base_uri": "https://localhost:8080/",
          "height": 902
        }
      },
      "cell_type": "code",
      "source": [
        "train_ds = pd.Series(train['item_description'].tolist()).astype(str)\n",
        "\n",
        "\n",
        "bins=100\n",
        "plt.figure(figsize=(10, 15))\n",
        "plt.hist(train_ds.apply(len), bins, range=[0,600], label='train')\n",
        "\n",
        "plt.title('Histogram of character count', fontsize=15)\n",
        "plt.xlabel('Characters Number', fontsize=15)\n",
        "plt.ylabel('Frequency', fontsize=15)\n",
        "plt.xticks(fontsize=15)\n",
        "plt.yticks(fontsize=15)\n",
        "plt.legend(fontsize=15)\n",
        "plt.show()\n"
      ],
      "execution_count": 28,
      "outputs": [
        {
          "output_type": "display_data",
          "data": {
            "image/png": "[encoded data removed]",
            "text/plain": [
              "<Figure size 720x1080 with 1 Axes>"
            ]
          },
          "metadata": {
            "tags": []
          }
        }
      ]
    },
    {
      "metadata": {
        "id": "GYGCdJZ0JWUq",
        "colab_type": "code",
        "colab": {}
      },
      "cell_type": "code",
      "source": [
        "train['has_description'] = 1\n",
        "train.loc[train['item_description']=='No description yet', 'has_description'] = 0\n"
      ],
      "execution_count": 0,
      "outputs": []
    },
    {
      "metadata": {
        "id": "Z1TzJFAiJWUu",
        "colab_type": "code",
        "outputId": "74ffc110-50c4-4885-e46d-d51f0deae3f8",
        "colab": {}
      },
      "cell_type": "code",
      "source": [
        "\n",
        "bins=50\n",
        "plt.hist(train[train['has_description']==1]['price'], bins, range=[0,250],\n",
        "         alpha=0.6, label='price when has_description==1')\n",
        "plt.hist(train[train['has_description']==0]['price'], bins, range=[0,250],\n",
        "         alpha=0.6, label='price when has_description==0')\n",
        "plt.title('Train price X has_description type distribution', fontsize=15)\n",
        "plt.xlabel('Price', fontsize=15)\n",
        "plt.ylabel('Samples', fontsize=15)\n",
        "plt.xticks(fontsize=15)\n",
        "plt.yticks(fontsize=15)\n",
        "plt.legend(fontsize=15)\n",
        "plt.show()\n"
      ],
      "execution_count": 0,
      "outputs": [
        {
          "output_type": "display_data",
          "data": {
            "image/png": "[encoded data removed]",
            "text/plain": [
              "<matplotlib.figure.Figure at 0xb7f8930>"
            ]
          },
          "metadata": {
            "tags": []
          }
        }
      ]
    },
    {
      "metadata": {
        "id": "KbswNaMLJWU0",
        "colab_type": "code",
        "outputId": "643b6f97-2b64-4037-a29f-d001d78af532",
        "colab": {
          "base_uri": "https://localhost:8080/",
          "height": 902
        }
      },
      "cell_type": "code",
      "source": [
        "bins=10\n",
        "plt.figure(figsize=(10, 15))\n",
        "plt.hist(train_ds.apply(lambda x: len(x.split())), bins, range=[0,100])\n",
        "\n",
        "plt.xlabel('Number of words', fontsize=15)\n",
        "plt.ylabel('Frequency', fontsize=15)\n",
        "plt.xticks(fontsize=15)\n",
        "plt.yticks(fontsize=15)\n",
        "plt.legend(fontsize=15)\n",
        "plt.show()\n"
      ],
      "execution_count": 29,
      "outputs": [
        {
          "output_type": "stream",
          "text": [
            "No handles with labels found to put in legend.\n"
          ],
          "name": "stderr"
        },
        {
          "output_type": "display_data",
          "data": {
            "image/png": "[encoded data removed]",
            "text/plain": [
              "<Figure size 720x1080 with 1 Axes>"
            ]
          },
          "metadata": {
            "tags": []
          }
        }
      ]
    }
  ]
}