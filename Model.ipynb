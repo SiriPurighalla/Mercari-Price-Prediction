{
  "nbformat": 4,
  "nbformat_minor": 0,
  "metadata": {
    "colab": {
      "name": "Model.ipynb",
      "version": "0.3.2",
      "provenance": [],
      "collapsed_sections": []
    },
    "kernelspec": {
      "name": "python3",
      "display_name": "Python 3"
    }
  },
  "cells": [
    {
      "metadata": {
        "id": "4XURWLvFF2Ai",
        "colab_type": "code",
        "colab": {}
      },
      "cell_type": "code",
      "source": [
        "import numpy as np\n",
        "import pandas as pd\n",
        "import seaborn as sns\n",
        "import matplotlib.pyplot as plt"
      ],
      "execution_count": 0,
      "outputs": []
    },
    {
      "metadata": {
        "id": "27z1HnK-VGns",
        "colab_type": "code",
        "outputId": "d80134ae-f3ca-44ee-dd85-8f08213f768d",
        "colab": {
          "base_uri": "https://localhost:8080/",
          "height": 34
        }
      },
      "cell_type": "code",
      "source": [
        "# Load the Drive helper and mount\n",
        "from google.colab import drive\n",
        "\n",
        "# This will prompt for authorization.\n",
        "drive.mount('/content/drive')"
      ],
      "execution_count": 2,
      "outputs": [
        {
          "output_type": "stream",
          "text": [
            "Drive already mounted at /content/drive; to attempt to forcibly remount, call drive.mount(\"/content/drive\", force_remount=True).\n"
          ],
          "name": "stdout"
        }
      ]
    },
    {
      "metadata": {
        "id": "OwyDw0sNMIPT",
        "colab_type": "code",
        "outputId": "1714bd1f-91db-4f9a-ed38-4f686ea44a20",
        "colab": {
          "base_uri": "https://localhost:8080/",
          "height": 51
        }
      },
      "cell_type": "code",
      "source": [
        "!mkdir -p drive\n",
        "!google-drive-ocamlfuse drive"
      ],
      "execution_count": 0,
      "outputs": [
        {
          "output_type": "stream",
          "text": [
            "fuse: mountpoint is not empty\n",
            "fuse: if you are sure this is safe, use the 'nonempty' mount option\n"
          ],
          "name": "stdout"
        }
      ]
    },
    {
      "metadata": {
        "id": "iEvmAY-iMIIi",
        "colab_type": "code",
        "outputId": "7a7e0ad5-93e1-4808-8b97-930d0935edfa",
        "colab": {
          "base_uri": "https://localhost:8080/",
          "height": 34
        }
      },
      "cell_type": "code",
      "source": [
        "!ls drive"
      ],
      "execution_count": 0,
      "outputs": [
        {
          "output_type": "stream",
          "text": [
            "'My Drive'\n"
          ],
          "name": "stdout"
        }
      ]
    },
    {
      "metadata": {
        "id": "OaTHdSyOMcKn",
        "colab_type": "code",
        "colab": {}
      },
      "cell_type": "code",
      "source": [
        "train=pd.read_csv('drive/My Drive/Colab Notebooks/train.tsv',sep='\\t')"
      ],
      "execution_count": 0,
      "outputs": []
    },
    {
      "metadata": {
        "id": "W4UotSTFOFR7",
        "colab_type": "code",
        "outputId": "75d39d4e-be0a-497e-feeb-a544a90f26e5",
        "colab": {
          "base_uri": "https://localhost:8080/",
          "height": 598
        }
      },
      "cell_type": "code",
      "source": [
        "!pip install wordbatch"
      ],
      "execution_count": 4,
      "outputs": [
        {
          "output_type": "stream",
          "text": [
            "Collecting wordbatch\n",
            "\u001b[?25l  Downloading https://files.pythonhosted.org/packages/df/25/a4fc62c1ce66b8db06059d5d773d57ff8df3ff5298ff943afcba7b4a7e54/Wordbatch-1.3.8.tar.gz (1.2MB)\n",
            "\u001b[K    100% |████████████████████████████████| 1.2MB 16.9MB/s \n",
            "\u001b[?25hRequirement already satisfied: cython in /usr/local/lib/python3.6/dist-packages (from wordbatch) (0.29.2)\n",
            "Requirement already satisfied: scikit-learn in /usr/local/lib/python3.6/dist-packages (from wordbatch) (0.20.2)\n",
            "Collecting python-Levenshtein (from wordbatch)\n",
            "\u001b[?25l  Downloading https://files.pythonhosted.org/packages/42/a9/d1785c85ebf9b7dfacd08938dd028209c34a0ea3b1bcdb895208bd40a67d/python-Levenshtein-0.12.0.tar.gz (48kB)\n",
            "\u001b[K    100% |████████████████████████████████| 51kB 23.8MB/s \n",
            "\u001b[?25hCollecting py-lz4framed (from wordbatch)\n",
            "\u001b[?25l  Downloading https://files.pythonhosted.org/packages/23/06/77fcb0ae69e4431584d67478166c5f9019bf175ba36ffe12250db5757552/py-lz4framed-0.13.0.tar.gz (104kB)\n",
            "\u001b[K    100% |████████████████████████████████| 112kB 33.5MB/s \n",
            "\u001b[?25hCollecting randomgen (from wordbatch)\n",
            "\u001b[?25l  Downloading https://files.pythonhosted.org/packages/5c/b8/e7f15dc36e938f1495b997da389f99e4049a378cba5cf59dd0067d224f85/randomgen-1.15.1-cp36-cp36m-manylinux1_x86_64.whl (1.8MB)\n",
            "\u001b[K    100% |████████████████████████████████| 1.9MB 16.9MB/s \n",
            "\u001b[?25hRequirement already satisfied: numpy in /usr/local/lib/python3.6/dist-packages (from wordbatch) (1.14.6)\n",
            "Requirement already satisfied: scipy in /usr/local/lib/python3.6/dist-packages (from wordbatch) (1.1.0)\n",
            "Requirement already satisfied: pandas in /usr/local/lib/python3.6/dist-packages (from wordbatch) (0.22.0)\n",
            "Requirement already satisfied: dill in /usr/local/lib/python3.6/dist-packages (from wordbatch) (0.2.8.2)\n",
            "Requirement already satisfied: setuptools in /usr/local/lib/python3.6/dist-packages (from python-Levenshtein->wordbatch) (40.6.3)\n",
            "Requirement already satisfied: wheel in /usr/local/lib/python3.6/dist-packages (from randomgen->wordbatch) (0.32.3)\n",
            "Requirement already satisfied: python-dateutil>=2 in /usr/local/lib/python3.6/dist-packages (from pandas->wordbatch) (2.5.3)\n",
            "Requirement already satisfied: pytz>=2011k in /usr/local/lib/python3.6/dist-packages (from pandas->wordbatch) (2018.9)\n",
            "Requirement already satisfied: six>=1.5 in /usr/local/lib/python3.6/dist-packages (from python-dateutil>=2->pandas->wordbatch) (1.11.0)\n",
            "Building wheels for collected packages: wordbatch, python-Levenshtein, py-lz4framed\n",
            "  Running setup.py bdist_wheel for wordbatch ... \u001b[?25l-\b \b\\\b \b|\b \b/\b \b-\b \b\\\b \b|\b \b/\b \b-\b \b\\\b \b|\b \b/\b \b-\b \b\\\b \b|\b \b/\b \b-\b \b\\\b \b|\b \b/\b \b-\b \b\\\b \b|\b \b/\b \b-\b \b\\\b \b|\b \bdone\n",
            "\u001b[?25h  Stored in directory: /root/.cache/pip/wheels/68/c1/2d/f2ef7f03fd110866c2836eb3bf0c6790a218a01e1a3b652cbc\n",
            "  Running setup.py bdist_wheel for python-Levenshtein ... \u001b[?25l-\b \b\\\b \b|\b \bdone\n",
            "\u001b[?25h  Stored in directory: /root/.cache/pip/wheels/de/c2/93/660fd5f7559049268ad2dc6d81c4e39e9e36518766eaf7e342\n",
            "  Running setup.py bdist_wheel for py-lz4framed ... \u001b[?25l-\b \b\\\b \b|\b \b/\b \b-\b \b\\\b \b|\b \b/\b \bdone\n",
            "\u001b[?25h  Stored in directory: /root/.cache/pip/wheels/55/96/0b/b8e76112de5c48181d1e9318c5d86192947f692f7f8972fc6d\n",
            "Successfully built wordbatch python-Levenshtein py-lz4framed\n",
            "Installing collected packages: python-Levenshtein, py-lz4framed, randomgen, wordbatch\n",
            "Successfully installed py-lz4framed-0.13.0 python-Levenshtein-0.12.0 randomgen-1.15.1 wordbatch-1.3.8\n"
          ],
          "name": "stdout"
        }
      ]
    },
    {
      "metadata": {
        "id": "o1WZQvyjOFNf",
        "colab_type": "code",
        "colab": {}
      },
      "cell_type": "code",
      "source": [
        "import wordbatch\n",
        "\n",
        "from wordbatch.extractors import WordBag, WordHash\n",
        "from wordbatch.models import FTRL, FM_FTRL\n",
        "\n",
        "from nltk.corpus import stopwords\n",
        "import re"
      ],
      "execution_count": 0,
      "outputs": []
    },
    {
      "metadata": {
        "id": "3AOp6MaAOFJK",
        "colab_type": "code",
        "colab": {}
      },
      "cell_type": "code",
      "source": [
        "NUM_BRANDS = 4500\n",
        "NUM_CATEGORIES = 1250\n",
        "#nrow_train = train.shape[0]\n",
        "y = np.log1p(train[\"price\"])\n"
      ],
      "execution_count": 0,
      "outputs": []
    },
    {
      "metadata": {
        "id": "z4ZkrCHScFT2",
        "colab_type": "code",
        "colab": {}
      },
      "cell_type": "code",
      "source": [
        "def category(category_name):\n",
        "    try:\n",
        "        main, sub1, sub2= category_name.split('/')\n",
        "        return main, sub1, sub2\n",
        "    except:\n",
        "        return np.nan, np.nan, np.nan\n",
        "train['category_main'], train['category_sub1'], train['category_sub2'] = zip(*train['category_name'].apply(category))"
      ],
      "execution_count": 0,
      "outputs": []
    },
    {
      "metadata": {
        "id": "N0S1uKY4Ovzj",
        "colab_type": "code",
        "colab": {}
      },
      "cell_type": "code",
      "source": [
        "train['category_main'].fillna(value='missing', inplace=True)\n",
        "train['category_sub1'].fillna(value='missing', inplace=True)\n",
        "train['category_sub2'].fillna(value='missing', inplace=True)\n",
        "train['brand_name'].fillna(value='missing', inplace=True)\n",
        "train['item_description'].fillna(value='missing', inplace=True)\n"
      ],
      "execution_count": 0,
      "outputs": []
    },
    {
      "metadata": {
        "id": "wvwDD9aTcUrF",
        "colab_type": "code",
        "colab": {
          "base_uri": "https://localhost:8080/",
          "height": 68
        },
        "outputId": "b8d69d07-2f86-4215-9cf0-159179bb4d79"
      },
      "cell_type": "code",
      "source": [
        "import nltk\n",
        "nltk.download ('stopwords')"
      ],
      "execution_count": 10,
      "outputs": [
        {
          "output_type": "stream",
          "text": [
            "[nltk_data] Downloading package stopwords to /root/nltk_data...\n",
            "[nltk_data]   Unzipping corpora/stopwords.zip.\n"
          ],
          "name": "stdout"
        },
        {
          "output_type": "execute_result",
          "data": {
            "text/plain": [
              "True"
            ]
          },
          "metadata": {
            "tags": []
          },
          "execution_count": 10
        }
      ]
    },
    {
      "metadata": {
        "id": "b-C_xJAacR_P",
        "colab_type": "code",
        "colab": {}
      },
      "cell_type": "code",
      "source": [
        "def cl_html(s):\n",
        "    c1 = re.compile('<.*?>')\n",
        "    c2 = re.sub(c1, ' ', str(s))\n",
        "    return c2\n",
        "def cl_p(s): \n",
        "    cl = re.sub(r'[?|!|\\'|\"|#]',r'',s)\n",
        "    cl = re.sub(r'[.|,|)|(|\\|/]',r' ',cl)\n",
        "    cl = cl.strip()\n",
        "    cl = cl.replace(\"\\n\",\" \")\n",
        "    return cl\n",
        "stop_words = set(stopwords.words('english'))\n",
        "\n",
        "sw= re.compile(r\"\\b(\" + \"|\".join(stop_words) + \")\\\\W\", re.I)\n",
        "def rem_stop(s):\n",
        "    global sw\n",
        "    return sw.sub(\" \", s)\n",
        "train['item_description']=train['item_description'].apply(rem_stop)\n",
        "train['item_description']=train['item_description'].apply(cl_p)\n",
        "train['item_description']=train['item_description'].apply(cl_html)"
      ],
      "execution_count": 0,
      "outputs": []
    },
    {
      "metadata": {
        "id": "qv9JIX0bOvwE",
        "colab_type": "code",
        "colab": {}
      },
      "cell_type": "code",
      "source": [
        "b= train['brand_name'].value_counts().loc[lambda x: x.index != 'missing'].index[:NUM_BRANDS]\n",
        "train.loc[~train['brand_name'].isin(b), 'brand_name'] = 'missing'\n",
        "cat1 = train['category_main'].value_counts().loc[lambda x: x.index != 'missing'].index[:NUM_CATEGORIES]\n",
        "cat2= train['category_sub1'].value_counts().loc[lambda x: x.index != 'missing'].index[:NUM_CATEGORIES]\n",
        "cat3 = train['category_sub2'].value_counts().loc[lambda x: x.index != 'missing'].index[:NUM_CATEGORIES]\n",
        "train.loc[~train['category_main'].isin(cat1), 'category_main'] = 'missing'\n",
        "train.loc[~train['category_sub1'].isin(cat2), 'category_sub1'] = 'missing'\n",
        "train.loc[~train['category_sub2'].isin(cat3), 'category_sub2'] = 'missing'\n"
      ],
      "execution_count": 0,
      "outputs": []
    },
    {
      "metadata": {
        "id": "bps20b8oOvu8",
        "colab_type": "code",
        "colab": {}
      },
      "cell_type": "code",
      "source": [
        "train['category_main'] = train['category_main'].astype('category')\n",
        "train['category_sub1'] = train['category_sub1'].astype('category')\n",
        "train['category_sub2'] = train['category_sub2'].astype('category')\n",
        "train['item_condition_id'] = train['item_condition_id'].astype('category')\n"
      ],
      "execution_count": 0,
      "outputs": []
    },
    {
      "metadata": {
        "id": "dtwttGe41dBA",
        "colab_type": "code",
        "outputId": "7b1e76f6-44f7-4717-c019-b351387564c9",
        "colab": {
          "base_uri": "https://localhost:8080/",
          "height": 428
        }
      },
      "cell_type": "code",
      "source": [
        "train.head()"
      ],
      "execution_count": 17,
      "outputs": [
        {
          "output_type": "execute_result",
          "data": {
            "text/html": [
              "<div>\n",
              "<style scoped>\n",
              "    .dataframe tbody tr th:only-of-type {\n",
              "        vertical-align: middle;\n",
              "    }\n",
              "\n",
              "    .dataframe tbody tr th {\n",
              "        vertical-align: top;\n",
              "    }\n",
              "\n",
              "    .dataframe thead th {\n",
              "        text-align: right;\n",
              "    }\n",
              "</style>\n",
              "<table border=\"1\" class=\"dataframe\">\n",
              "  <thead>\n",
              "    <tr style=\"text-align: right;\">\n",
              "      <th></th>\n",
              "      <th>train_id</th>\n",
              "      <th>name</th>\n",
              "      <th>item_condition_id</th>\n",
              "      <th>category_name</th>\n",
              "      <th>brand_name</th>\n",
              "      <th>price</th>\n",
              "      <th>shipping</th>\n",
              "      <th>item_description</th>\n",
              "      <th>category_main</th>\n",
              "      <th>category_sub1</th>\n",
              "      <th>category_sub2</th>\n",
              "    </tr>\n",
              "  </thead>\n",
              "  <tbody>\n",
              "    <tr>\n",
              "      <th>0</th>\n",
              "      <td>0</td>\n",
              "      <td>MLB Cincinnati Reds T Shirt Size XL</td>\n",
              "      <td>3</td>\n",
              "      <td>Men/Tops/T-shirts</td>\n",
              "      <td>missing</td>\n",
              "      <td>10.0</td>\n",
              "      <td>1</td>\n",
              "      <td>description yet</td>\n",
              "      <td>Men</td>\n",
              "      <td>Tops</td>\n",
              "      <td>T-shirts</td>\n",
              "    </tr>\n",
              "    <tr>\n",
              "      <th>1</th>\n",
              "      <td>1</td>\n",
              "      <td>Razer BlackWidow Chroma Keyboard</td>\n",
              "      <td>3</td>\n",
              "      <td>Electronics/Computers &amp; Tablets/Components &amp; P...</td>\n",
              "      <td>Razer</td>\n",
              "      <td>52.0</td>\n",
              "      <td>0</td>\n",
              "      <td>keyboard   great condition  works like  came  ...</td>\n",
              "      <td>Electronics</td>\n",
              "      <td>Computers &amp; Tablets</td>\n",
              "      <td>Components &amp; Parts</td>\n",
              "    </tr>\n",
              "    <tr>\n",
              "      <th>2</th>\n",
              "      <td>2</td>\n",
              "      <td>AVA-VIV Blouse</td>\n",
              "      <td>1</td>\n",
              "      <td>Women/Tops &amp; Blouses/Blouse</td>\n",
              "      <td>Target</td>\n",
              "      <td>10.0</td>\n",
              "      <td>1</td>\n",
              "      <td>Adorable top   hint  lace   key hole   back  p...</td>\n",
              "      <td>Women</td>\n",
              "      <td>Tops &amp; Blouses</td>\n",
              "      <td>Blouse</td>\n",
              "    </tr>\n",
              "    <tr>\n",
              "      <th>3</th>\n",
              "      <td>3</td>\n",
              "      <td>Leather Horse Statues</td>\n",
              "      <td>1</td>\n",
              "      <td>Home/Home Décor/Home Décor Accents</td>\n",
              "      <td>missing</td>\n",
              "      <td>35.0</td>\n",
              "      <td>1</td>\n",
              "      <td>New  tags  Leather horses  Retail  [rm]   Stan...</td>\n",
              "      <td>Home</td>\n",
              "      <td>Home Décor</td>\n",
              "      <td>Home Décor Accents</td>\n",
              "    </tr>\n",
              "    <tr>\n",
              "      <th>4</th>\n",
              "      <td>4</td>\n",
              "      <td>24K GOLD plated rose</td>\n",
              "      <td>1</td>\n",
              "      <td>Women/Jewelry/Necklaces</td>\n",
              "      <td>missing</td>\n",
              "      <td>44.0</td>\n",
              "      <td>0</td>\n",
              "      <td>Complete  certificate  authenticity</td>\n",
              "      <td>Women</td>\n",
              "      <td>Jewelry</td>\n",
              "      <td>Necklaces</td>\n",
              "    </tr>\n",
              "  </tbody>\n",
              "</table>\n",
              "</div>"
            ],
            "text/plain": [
              "   train_id                                 name item_condition_id  \\\n",
              "0         0  MLB Cincinnati Reds T Shirt Size XL                 3   \n",
              "1         1     Razer BlackWidow Chroma Keyboard                 3   \n",
              "2         2                       AVA-VIV Blouse                 1   \n",
              "3         3                Leather Horse Statues                 1   \n",
              "4         4                 24K GOLD plated rose                 1   \n",
              "\n",
              "                                       category_name brand_name  price  \\\n",
              "0                                  Men/Tops/T-shirts    missing   10.0   \n",
              "1  Electronics/Computers & Tablets/Components & P...      Razer   52.0   \n",
              "2                        Women/Tops & Blouses/Blouse     Target   10.0   \n",
              "3                 Home/Home Décor/Home Décor Accents    missing   35.0   \n",
              "4                            Women/Jewelry/Necklaces    missing   44.0   \n",
              "\n",
              "   shipping                                   item_description category_main  \\\n",
              "0         1                                    description yet           Men   \n",
              "1         0  keyboard   great condition  works like  came  ...   Electronics   \n",
              "2         1  Adorable top   hint  lace   key hole   back  p...         Women   \n",
              "3         1  New  tags  Leather horses  Retail  [rm]   Stan...          Home   \n",
              "4         0                Complete  certificate  authenticity         Women   \n",
              "\n",
              "         category_sub1       category_sub2  \n",
              "0                 Tops            T-shirts  \n",
              "1  Computers & Tablets  Components & Parts  \n",
              "2       Tops & Blouses              Blouse  \n",
              "3           Home Décor  Home Décor Accents  \n",
              "4              Jewelry           Necklaces  "
            ]
          },
          "metadata": {
            "tags": []
          },
          "execution_count": 17
        }
      ]
    },
    {
      "metadata": {
        "id": "kcXmX-LLOvrY",
        "colab_type": "code",
        "colab": {}
      },
      "cell_type": "code",
      "source": [
        "train.drop('category_name', axis=1, inplace=True)"
      ],
      "execution_count": 0,
      "outputs": []
    },
    {
      "metadata": {
        "id": "GKvy40ScOvqS",
        "colab_type": "code",
        "colab": {}
      },
      "cell_type": "code",
      "source": [
        "wb = wordbatch.WordBatch( extractor=(WordBag, {\"hash_ngrams\": 2, \"hash_ngrams_weights\": [1.5, 1.0],\n",
        "                                                                  \"hash_size\": 2 ** 29, \"norm\": None, \"tf\": 'binary',\n",
        "                                                                  \"idf\": None,\n",
        "                                                                  }), procs=8)"
      ],
      "execution_count": 0,
      "outputs": []
    },
    {
      "metadata": {
        "id": "CDiD8bgnO_yg",
        "colab_type": "code",
        "outputId": "f62902a7-ff30-4aa4-fdb9-29adf617ad06",
        "colab": {
          "base_uri": "https://localhost:8080/",
          "height": 34
        }
      },
      "cell_type": "code",
      "source": [
        "wb.dictionary_freeze= True\n",
        "nm = wb.fit_transform(train['name'])\n"
      ],
      "execution_count": 25,
      "outputs": [
        {
          "output_type": "stream",
          "text": [
            "Normalize text\n"
          ],
          "name": "stdout"
        }
      ]
    },
    {
      "metadata": {
        "id": "ydCEn44-O_xX",
        "colab_type": "code",
        "colab": {}
      },
      "cell_type": "code",
      "source": [
        "\n",
        "nm = nm[:, np.where(nm.getnnz(axis=0) > 1)[0]]\n"
      ],
      "execution_count": 0,
      "outputs": []
    },
    {
      "metadata": {
        "id": "ZmDSym5sO_uA",
        "colab_type": "code",
        "colab": {}
      },
      "cell_type": "code",
      "source": [
        "from sklearn.feature_extraction.text import CountVectorizer\n",
        "from sklearn.preprocessing import LabelBinarizer"
      ],
      "execution_count": 0,
      "outputs": []
    },
    {
      "metadata": {
        "id": "7KPfIrhFO_su",
        "colab_type": "code",
        "colab": {}
      },
      "cell_type": "code",
      "source": [
        "wb = CountVectorizer()\n",
        "c1 = wb.fit_transform(train['category_main'])\n",
        "c2 = wb.fit_transform(train['category_sub1'])\n",
        "c3 = wb.fit_transform(train['category_sub2'])\n"
      ],
      "execution_count": 0,
      "outputs": []
    },
    {
      "metadata": {
        "id": "lYyu-T4pO_o_",
        "colab_type": "code",
        "colab": {}
      },
      "cell_type": "code",
      "source": [
        "wb = wordbatch.WordBatch(extractor=(WordBag, {\"hash_ngrams\": 2, \"hash_ngrams_weights\": [1.0, 1.0],\n",
        "                                                                  \"hash_size\": 2 ** 28, \"norm\": \"l2\", \"tf\": 1.0,\n",
        "                                                                  \"idf\": None})\n",
        "                             , procs=8)"
      ],
      "execution_count": 0,
      "outputs": []
    },
    {
      "metadata": {
        "id": "ACg82fAIO_nw",
        "colab_type": "code",
        "outputId": "83b8840f-23e6-498a-87ea-a00a18cdbfee",
        "colab": {
          "base_uri": "https://localhost:8080/",
          "height": 34
        }
      },
      "cell_type": "code",
      "source": [
        "wb.dictionary_freeze= True\n",
        "descp = wb.fit_transform(train['item_description'])\n",
        "\n"
      ],
      "execution_count": 30,
      "outputs": [
        {
          "output_type": "stream",
          "text": [
            "Normalize text\n"
          ],
          "name": "stdout"
        }
      ]
    },
    {
      "metadata": {
        "id": "AjXSgAKAOvnZ",
        "colab_type": "code",
        "colab": {}
      },
      "cell_type": "code",
      "source": [
        "\n",
        "descp = descp[:, np.where(descp.getnnz(axis=0) > 1)[0]]\n",
        "\n",
        "\n"
      ],
      "execution_count": 0,
      "outputs": []
    },
    {
      "metadata": {
        "id": "2YjlQOJJOvln",
        "colab_type": "code",
        "colab": {}
      },
      "cell_type": "code",
      "source": [
        "lb = LabelBinarizer(sparse_output=True)\n",
        "br = lb.fit_transform(train['brand_name'])\n",
        "\n"
      ],
      "execution_count": 0,
      "outputs": []
    },
    {
      "metadata": {
        "id": "l3XHlTFJOFAH",
        "colab_type": "code",
        "colab": {}
      },
      "cell_type": "code",
      "source": [
        "from scipy.sparse import csr_matrix, hstack"
      ],
      "execution_count": 0,
      "outputs": []
    },
    {
      "metadata": {
        "id": "hWa92QHwP8nS",
        "colab_type": "code",
        "colab": {}
      },
      "cell_type": "code",
      "source": [
        "dum = csr_matrix(pd.get_dummies(train[['item_condition_id', 'shipping']],\n",
        "                                          sparse=True).values)\n",
        "\n"
      ],
      "execution_count": 0,
      "outputs": []
    },
    {
      "metadata": {
        "id": "kMOiTx5IP8mF",
        "colab_type": "code",
        "colab": {}
      },
      "cell_type": "code",
      "source": [
        "mer = hstack((dum, descp, br, c1, c2, c3, nm)).tocsr()"
      ],
      "execution_count": 0,
      "outputs": []
    },
    {
      "metadata": {
        "id": "rNOflP2SP8ix",
        "colab_type": "code",
        "outputId": "072c9d66-083a-4a92-f43f-7847871e9a58",
        "colab": {
          "base_uri": "https://localhost:8080/",
          "height": 34
        }
      },
      "cell_type": "code",
      "source": [
        "mer.shape"
      ],
      "execution_count": 36,
      "outputs": [
        {
          "output_type": "execute_result",
          "data": {
            "text/plain": [
              "(1482535, 1969749)"
            ]
          },
          "metadata": {
            "tags": []
          },
          "execution_count": 36
        }
      ]
    },
    {
      "metadata": {
        "id": "tzBbayP4P8hg",
        "colab_type": "code",
        "colab": {}
      },
      "cell_type": "code",
      "source": [
        "from sklearn.model_selection import train_test_split\n"
      ],
      "execution_count": 0,
      "outputs": []
    },
    {
      "metadata": {
        "id": "7RXhQ6uvSE53",
        "colab_type": "code",
        "colab": {}
      },
      "cell_type": "code",
      "source": [
        "X_train, X_test, y_train, y_test = train_test_split(mer, y, test_size=0.3)"
      ],
      "execution_count": 0,
      "outputs": []
    },
    {
      "metadata": {
        "id": "2YkNS8kKCOa8",
        "colab_type": "code",
        "colab": {}
      },
      "cell_type": "code",
      "source": [
        "from sklearn.metrics.scorer import make_scorer\n",
        "import math"
      ],
      "execution_count": 0,
      "outputs": []
    },
    {
      "metadata": {
        "id": "Cky_e9KPiiB2",
        "colab_type": "code",
        "colab": {}
      },
      "cell_type": "code",
      "source": [
        "def rmsle(y, y_pred):\n",
        "    assert len(y) == len(y_pred)\n",
        "    \n",
        "    #to_sum = [math.(y_pred[i]  - math.(y[i]) )** 2.0 for i,pred in enumerate(y_pred)]\n",
        "    #return (sum(to_sum) * (1.0/len(y))) ** 0.5\n",
        "    return np.sqrt(np.mean(np.power(np.log1p(y) - np.log1p(y_pred), 2)))"
      ],
      "execution_count": 0,
      "outputs": []
    },
    {
      "metadata": {
        "id": "qlDC6xzyj_GK",
        "colab_type": "code",
        "colab": {}
      },
      "cell_type": "code",
      "source": [
        "from sklearn.linear_model import Ridge"
      ],
      "execution_count": 0,
      "outputs": []
    },
    {
      "metadata": {
        "id": "SzFnanHEih_W",
        "colab_type": "code",
        "colab": {
          "base_uri": "https://localhost:8080/",
          "height": 51
        },
        "outputId": "de130e71-4c71-44cc-e149-dca51732aefa"
      },
      "cell_type": "code",
      "source": [
        "ridge = Ridge(solver='auto', fit_intercept=True, alpha=0.4, max_iter=200, normalize=False, tol=0.01)\n",
        "ridge.fit(X_train, y_train)"
      ],
      "execution_count": 43,
      "outputs": [
        {
          "output_type": "execute_result",
          "data": {
            "text/plain": [
              "Ridge(alpha=0.4, copy_X=True, fit_intercept=True, max_iter=200,\n",
              "   normalize=False, random_state=None, solver='auto', tol=0.01)"
            ]
          },
          "metadata": {
            "tags": []
          },
          "execution_count": 43
        }
      ]
    },
    {
      "metadata": {
        "id": "Opn1A5Qoih8W",
        "colab_type": "code",
        "colab": {}
      },
      "cell_type": "code",
      "source": [
        "r1=ridge.predict(X_test)"
      ],
      "execution_count": 0,
      "outputs": []
    },
    {
      "metadata": {
        "id": "tNLnezo4kswG",
        "colab_type": "code",
        "colab": {}
      },
      "cell_type": "code",
      "source": [
        "t1=y_test.values"
      ],
      "execution_count": 0,
      "outputs": []
    },
    {
      "metadata": {
        "id": "a0J6p8fdiv3y",
        "colab_type": "code",
        "colab": {
          "base_uri": "https://localhost:8080/",
          "height": 34
        },
        "outputId": "ece56fbe-8042-4a5d-e75a-c34fa20ca907"
      },
      "cell_type": "code",
      "source": [
        "e1=rmsle(np.expm1(t1), np.expm1(r1))\n",
        "print(e1)"
      ],
      "execution_count": 50,
      "outputs": [
        {
          "output_type": "stream",
          "text": [
            "0.4619292564688951\n"
          ],
          "name": "stdout"
        }
      ]
    },
    {
      "metadata": {
        "id": "ypmCCFe2iv0I",
        "colab_type": "code",
        "colab": {}
      },
      "cell_type": "code",
      "source": [
        "model = FTRL(alpha=0.01, beta=0.1, L1=0.00001, L2=1.0, D=mer.shape[1], iters=50, inv_link=\"identity\", threads=1)"
      ],
      "execution_count": 0,
      "outputs": []
    },
    {
      "metadata": {
        "id": "Y7GvUIWzivxT",
        "colab_type": "code",
        "colab": {
          "base_uri": "https://localhost:8080/",
          "height": 884
        },
        "outputId": "6e457665-53f2-417e-ac17-83f9aa50acfc"
      },
      "cell_type": "code",
      "source": [
        "model.fit(X_train, y_train)"
      ],
      "execution_count": 53,
      "outputs": [
        {
          "output_type": "stream",
          "text": [
            "Total e: 403428.8855703045\n",
            "Total e: 360119.51955482713\n",
            "Total e: 346929.083079405\n",
            "Total e: 338236.73601981264\n",
            "Total e: 331647.51070727676\n",
            "Total e: 326310.30801500723\n",
            "Total e: 321808.58222572703\n",
            "Total e: 317905.8135642228\n",
            "Total e: 314452.8854546926\n",
            "Total e: 311353.3561254611\n",
            "Total e: 308538.24766812066\n",
            "Total e: 305959.141270538\n",
            "Total e: 303577.4596535562\n",
            "Total e: 301363.11967425636\n",
            "Total e: 299293.58012672473\n",
            "Total e: 297350.8247406983\n",
            "Total e: 295519.42397617735\n",
            "Total e: 293786.74304149585\n",
            "Total e: 292141.55867052154\n",
            "Total e: 290575.50307418336\n",
            "Total e: 289081.25113448274\n",
            "Total e: 287652.8727448411\n",
            "Total e: 286284.20580122387\n",
            "Total e: 284969.97423316573\n",
            "Total e: 283706.45108065655\n",
            "Total e: 282489.50057051127\n",
            "Total e: 281315.70314124174\n",
            "Total e: 280182.2661530445\n",
            "Total e: 279086.2214007553\n",
            "Total e: 278025.1910019317\n",
            "Total e: 276996.8630962024\n",
            "Total e: 275999.45017437247\n",
            "Total e: 275030.9989852259\n",
            "Total e: 274089.9316866973\n",
            "Total e: 273174.2861399264\n",
            "Total e: 272283.04525211744\n",
            "Total e: 271414.8682769733\n",
            "Total e: 270568.66866390797\n",
            "Total e: 269743.2642477893\n",
            "Total e: 268937.6905577728\n",
            "Total e: 268151.16396464384\n",
            "Total e: 267382.64337816456\n",
            "Total e: 266631.23116878205\n",
            "Total e: 265895.98465022474\n",
            "Total e: 265176.452524675\n",
            "Total e: 264471.8867755747\n",
            "Total e: 263781.8239471097\n",
            "Total e: 263105.6654279396\n",
            "Total e: 262442.67710272496\n",
            "Total e: 261792.4431946185\n"
          ],
          "name": "stdout"
        },
        {
          "output_type": "execute_result",
          "data": {
            "text/plain": [
              "<wordbatch.models.ftrl.FTRL at 0xb1cb300>"
            ]
          },
          "metadata": {
            "tags": []
          },
          "execution_count": 53
        }
      ]
    },
    {
      "metadata": {
        "id": "CPnpechEivuh",
        "colab_type": "code",
        "colab": {}
      },
      "cell_type": "code",
      "source": [
        "m1=model.predict(X_test)"
      ],
      "execution_count": 0,
      "outputs": []
    },
    {
      "metadata": {
        "id": "qBMuP6w8ivq0",
        "colab_type": "code",
        "colab": {}
      },
      "cell_type": "code",
      "source": [
        "e2=rmsle(np.expm1(t1), np.expm1(m1))\n"
      ],
      "execution_count": 0,
      "outputs": []
    },
    {
      "metadata": {
        "id": "r4OHo1eZrqE5",
        "colab_type": "code",
        "colab": {
          "base_uri": "https://localhost:8080/",
          "height": 34
        },
        "outputId": "913417a4-8668-41a2-a625-a62cc7647c67"
      },
      "cell_type": "code",
      "source": [
        "print(e2)"
      ],
      "execution_count": 68,
      "outputs": [
        {
          "output_type": "stream",
          "text": [
            "0.4408043784945176\n"
          ],
          "name": "stdout"
        }
      ]
    },
    {
      "metadata": {
        "id": "-W4ycqpaSE2P",
        "colab_type": "code",
        "colab": {}
      },
      "cell_type": "code",
      "source": [
        " model2 = FM_FTRL( L1=0.00001, L2=1.0,D=mer.shape[1],\n",
        "                    inv_link=\"identity\")\n"
      ],
      "execution_count": 0,
      "outputs": []
    },
    {
      "metadata": {
        "id": "6c7x41C1SE00",
        "colab_type": "code",
        "outputId": "88007d23-6842-473d-ae55-e49efeee1404",
        "colab": {
          "base_uri": "https://localhost:8080/",
          "height": 119
        }
      },
      "cell_type": "code",
      "source": [
        "model2.fit(X_train, y_train)"
      ],
      "execution_count": 57,
      "outputs": [
        {
          "output_type": "stream",
          "text": [
            "Total e: 365206.91267058894\n",
            "Total e: 310269.948716321\n",
            "Total e: 289058.5687083469\n",
            "Total e: 274074.3341902569\n",
            "Total e: 262175.3378282672\n"
          ],
          "name": "stdout"
        },
        {
          "output_type": "execute_result",
          "data": {
            "text/plain": [
              "<wordbatch.models.fm_ftrl.FM_FTRL at 0xa132100>"
            ]
          },
          "metadata": {
            "tags": []
          },
          "execution_count": 57
        }
      ]
    },
    {
      "metadata": {
        "id": "_cZgYmaMUjtC",
        "colab_type": "code",
        "colab": {}
      },
      "cell_type": "code",
      "source": [
        "m2 = model2.predict(X_test)"
      ],
      "execution_count": 0,
      "outputs": []
    },
    {
      "metadata": {
        "id": "YWc6EK3zRPKP",
        "colab_type": "code",
        "colab": {}
      },
      "cell_type": "code",
      "source": [
        "e3=rmsle(np.expm1(t1), np.expm1(m2))\n"
      ],
      "execution_count": 0,
      "outputs": []
    },
    {
      "metadata": {
        "id": "RYZcHmJ5rZNj",
        "colab_type": "code",
        "colab": {
          "base_uri": "https://localhost:8080/",
          "height": 34
        },
        "outputId": "c394747f-7835-447c-f435-45454638a4af"
      },
      "cell_type": "code",
      "source": [
        "print(e3)"
      ],
      "execution_count": 65,
      "outputs": [
        {
          "output_type": "stream",
          "text": [
            "0.4289315442046666\n"
          ],
          "name": "stdout"
        }
      ]
    },
    {
      "metadata": {
        "id": "D0EZbqrmQlSR",
        "colab_type": "code",
        "colab": {
          "base_uri": "https://localhost:8080/",
          "height": 142
        },
        "outputId": "15abfcd5-fea0-4736-8032-9898a9862278"
      },
      "cell_type": "code",
      "source": [
        "modelDF = pd.DataFrame({\n",
        "    'Model'       : ['Ridge Regression', 'FTRL', 'FM-FTRL'],\n",
        "    \n",
        "    'RMLSE'   : [ e1, e2,e3],\n",
        "    \n",
        "    }, columns = ['Model', 'RMLSE'])\n",
        "\n",
        "modelDF.sort_values(by='RMLSE', ascending=False)"
      ],
      "execution_count": 70,
      "outputs": [
        {
          "output_type": "execute_result",
          "data": {
            "text/html": [
              "<div>\n",
              "<style scoped>\n",
              "    .dataframe tbody tr th:only-of-type {\n",
              "        vertical-align: middle;\n",
              "    }\n",
              "\n",
              "    .dataframe tbody tr th {\n",
              "        vertical-align: top;\n",
              "    }\n",
              "\n",
              "    .dataframe thead th {\n",
              "        text-align: right;\n",
              "    }\n",
              "</style>\n",
              "<table border=\"1\" class=\"dataframe\">\n",
              "  <thead>\n",
              "    <tr style=\"text-align: right;\">\n",
              "      <th></th>\n",
              "      <th>Model</th>\n",
              "      <th>RMLSE</th>\n",
              "    </tr>\n",
              "  </thead>\n",
              "  <tbody>\n",
              "    <tr>\n",
              "      <th>0</th>\n",
              "      <td>Ridge Regression</td>\n",
              "      <td>0.461929</td>\n",
              "    </tr>\n",
              "    <tr>\n",
              "      <th>1</th>\n",
              "      <td>FTRL</td>\n",
              "      <td>0.440804</td>\n",
              "    </tr>\n",
              "    <tr>\n",
              "      <th>2</th>\n",
              "      <td>FM-FTRL</td>\n",
              "      <td>0.428932</td>\n",
              "    </tr>\n",
              "  </tbody>\n",
              "</table>\n",
              "</div>"
            ],
            "text/plain": [
              "              Model     RMLSE\n",
              "0  Ridge Regression  0.461929\n",
              "1              FTRL  0.440804\n",
              "2           FM-FTRL  0.428932"
            ]
          },
          "metadata": {
            "tags": []
          },
          "execution_count": 70
        }
      ]
    }
  ]
}